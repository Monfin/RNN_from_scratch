{
  "cells": [
    {
      "cell_type": "code",
      "execution_count": 1,
      "metadata": {
        "colab": {
          "base_uri": "https://localhost:8080/"
        },
        "id": "nVD_8uI7Qj3h",
        "outputId": "463fed13-cf2a-4345-dbb5-80b48e5bedaa"
      },
      "outputs": [
        {
          "output_type": "stream",
          "name": "stdout",
          "text": [
            "Collecting torchinfo\n",
            "  Downloading torchinfo-1.8.0-py3-none-any.whl (23 kB)\n",
            "Installing collected packages: torchinfo\n",
            "Successfully installed torchinfo-1.8.0\n"
          ]
        }
      ],
      "source": [
        "!pip install torchinfo"
      ]
    },
    {
      "cell_type": "code",
      "execution_count": 2,
      "metadata": {
        "id": "mTB0ST2y3gKf"
      },
      "outputs": [],
      "source": [
        "import torch\n",
        "from torchvision import datasets, transforms\n",
        "from torch import nn\n",
        "from torchinfo import summary\n",
        "from tqdm import tqdm\n",
        "\n",
        "import matplotlib.pyplot as plt\n",
        "\n",
        "import pandas as pd"
      ]
    },
    {
      "cell_type": "code",
      "execution_count": 3,
      "metadata": {
        "id": "ml_CVDaGL8Kt"
      },
      "outputs": [],
      "source": [
        "batch_size, hidden_size = 128, 64\n",
        "seq_len = 28\n",
        "input_size = 28\n",
        "num_classes = 10"
      ]
    },
    {
      "cell_type": "markdown",
      "metadata": {
        "id": "0XJtr44K38_4"
      },
      "source": [
        "# Torch Imports"
      ]
    },
    {
      "cell_type": "code",
      "execution_count": 4,
      "metadata": {
        "colab": {
          "base_uri": "https://localhost:8080/"
        },
        "id": "rxzX9eoaxsGE",
        "outputId": "431c2e87-0e65-4728-a2a3-30e3a667d3eb"
      },
      "outputs": [
        {
          "output_type": "execute_result",
          "data": {
            "text/plain": [
              "device(type='cuda')"
            ]
          },
          "metadata": {},
          "execution_count": 4
        }
      ],
      "source": [
        "device = torch.device('cuda' if torch.cuda.is_available() else 'cpu')\n",
        "device"
      ]
    },
    {
      "cell_type": "code",
      "execution_count": 5,
      "metadata": {
        "colab": {
          "base_uri": "https://localhost:8080/"
        },
        "id": "_P41Ns3gyAUV",
        "outputId": "6e74ab0f-3c66-47b7-c9b7-bee7fabebdea"
      },
      "outputs": [
        {
          "output_type": "stream",
          "name": "stdout",
          "text": [
            "Downloading http://fashion-mnist.s3-website.eu-central-1.amazonaws.com/train-images-idx3-ubyte.gz\n",
            "Downloading http://fashion-mnist.s3-website.eu-central-1.amazonaws.com/train-images-idx3-ubyte.gz to data/FashionMNIST/raw/train-images-idx3-ubyte.gz\n"
          ]
        },
        {
          "output_type": "stream",
          "name": "stderr",
          "text": [
            "100%|██████████| 26421880/26421880 [00:00<00:00, 118416134.15it/s]\n"
          ]
        },
        {
          "output_type": "stream",
          "name": "stdout",
          "text": [
            "Extracting data/FashionMNIST/raw/train-images-idx3-ubyte.gz to data/FashionMNIST/raw\n",
            "\n",
            "Downloading http://fashion-mnist.s3-website.eu-central-1.amazonaws.com/train-labels-idx1-ubyte.gz\n",
            "Downloading http://fashion-mnist.s3-website.eu-central-1.amazonaws.com/train-labels-idx1-ubyte.gz to data/FashionMNIST/raw/train-labels-idx1-ubyte.gz\n"
          ]
        },
        {
          "output_type": "stream",
          "name": "stderr",
          "text": [
            "100%|██████████| 29515/29515 [00:00<00:00, 5096746.78it/s]"
          ]
        },
        {
          "output_type": "stream",
          "name": "stdout",
          "text": [
            "Extracting data/FashionMNIST/raw/train-labels-idx1-ubyte.gz to data/FashionMNIST/raw\n",
            "\n",
            "Downloading http://fashion-mnist.s3-website.eu-central-1.amazonaws.com/t10k-images-idx3-ubyte.gz\n",
            "Downloading http://fashion-mnist.s3-website.eu-central-1.amazonaws.com/t10k-images-idx3-ubyte.gz to data/FashionMNIST/raw/t10k-images-idx3-ubyte.gz\n"
          ]
        },
        {
          "output_type": "stream",
          "name": "stderr",
          "text": [
            "\n",
            "100%|██████████| 4422102/4422102 [00:00<00:00, 66719329.87it/s]\n"
          ]
        },
        {
          "output_type": "stream",
          "name": "stdout",
          "text": [
            "Extracting data/FashionMNIST/raw/t10k-images-idx3-ubyte.gz to data/FashionMNIST/raw\n",
            "\n",
            "Downloading http://fashion-mnist.s3-website.eu-central-1.amazonaws.com/t10k-labels-idx1-ubyte.gz\n",
            "Downloading http://fashion-mnist.s3-website.eu-central-1.amazonaws.com/t10k-labels-idx1-ubyte.gz to data/FashionMNIST/raw/t10k-labels-idx1-ubyte.gz\n"
          ]
        },
        {
          "output_type": "stream",
          "name": "stderr",
          "text": [
            "100%|██████████| 5148/5148 [00:00<00:00, 21463496.02it/s]\n"
          ]
        },
        {
          "output_type": "stream",
          "name": "stdout",
          "text": [
            "Extracting data/FashionMNIST/raw/t10k-labels-idx1-ubyte.gz to data/FashionMNIST/raw\n",
            "\n"
          ]
        }
      ],
      "source": [
        "train_data = datasets.FashionMNIST(\n",
        "    root='data',\n",
        "    train=True,\n",
        "    download=True,\n",
        "    transform=transforms.Compose(\n",
        "        [\n",
        "            transforms.ToTensor(),\n",
        "            transforms.ConvertImageDtype(torch.float)\n",
        "        ]\n",
        "    )\n",
        ")\n",
        "\n",
        "test_data = datasets.FashionMNIST(\n",
        "    root='data',\n",
        "    train=False,\n",
        "    download=True,\n",
        "    transform=transforms.Compose(\n",
        "        [\n",
        "            transforms.ToTensor(),\n",
        "            transforms.ConvertImageDtype(torch.float)\n",
        "        ]\n",
        "    )\n",
        ")"
      ]
    },
    {
      "cell_type": "code",
      "execution_count": 6,
      "metadata": {
        "id": "6bltIthNyA4k"
      },
      "outputs": [],
      "source": [
        "train_dataloader = torch.utils.data.DataLoader(train_data, batch_size=batch_size, shuffle=True)\n",
        "test_dataloader = torch.utils.data.DataLoader(test_data, batch_size=batch_size, shuffle=False)"
      ]
    },
    {
      "cell_type": "code",
      "execution_count": 7,
      "metadata": {
        "colab": {
          "base_uri": "https://localhost:8080/",
          "height": 0
        },
        "id": "UMnKP7_RyG4Q",
        "outputId": "4c895499-da4c-4e76-9f10-08ed18d0458d"
      },
      "outputs": [
        {
          "output_type": "display_data",
          "data": {
            "text/plain": [
              "<Figure size 640x480 with 1 Axes>"
            ],
            "image/png": "[encoded data removed]"
          },
          "metadata": {}
        }
      ],
      "source": [
        "for (x, y) in train_dataloader:\n",
        "    plt.imshow(x[0].squeeze())\n",
        "    break"
      ]
    },
    {
      "cell_type": "markdown",
      "metadata": {
        "id": "ro7mcgh834ha"
      },
      "source": [
        "# RNN"
      ]
    },
    {
      "cell_type": "markdown",
      "metadata": {
        "id": "Xe0uDrm54CNR"
      },
      "source": [
        "## CustomRNN: LinearEx (Dense), RNNCellEx (memory_cell), RNNLayer (simpleRNN)"
      ]
    },
    {
      "cell_type": "code",
      "execution_count": 8,
      "metadata": {
        "id": "QiGiGRdGqy3Z"
      },
      "outputs": [],
      "source": [
        "sample = next(iter(train_dataloader))[0].squeeze()"
      ]
    },
    {
      "cell_type": "code",
      "execution_count": 9,
      "metadata": {
        "id": "ip89jw0-3rn1"
      },
      "outputs": [],
      "source": [
        "class LinearEx(nn.Module):\n",
        "    __constants__ = ['in_features', 'out_features', 'bias']\n",
        "\n",
        "    def __init__(self, in_features: int, out_features: int, bias: bool = True, device: str = 'cpu', **kwargs):\n",
        "        super(LinearEx, self).__init__(**kwargs)\n",
        "\n",
        "        self.use_bias = bias\n",
        "\n",
        "        self.weights = nn.Parameter(data=torch.randn(size=(out_features, in_features), device=device), requires_grad=True)\n",
        "        if self.use_bias: self.bias = nn.Parameter(data=torch.randn(size=(out_features, 1), device=device), requires_grad=True)\n",
        "\n",
        "    def forward(self, inputs: torch.Tensor):\n",
        "        inputs = inputs.to(device)\n",
        "\n",
        "        if self.use_bias:\n",
        "            return torch.matmul(inputs, torch.transpose(self.weights, dim0=0, dim1=1)) + self.bias.squeeze()\n",
        "        else: return torch.matmul(inputs, torch.transpose(self.weights, dim0=0, dim1=1))"
      ]
    },
    {
      "cell_type": "code",
      "execution_count": 11,
      "metadata": {
        "colab": {
          "base_uri": "https://localhost:8080/"
        },
        "id": "ywAfqQ9EP939",
        "outputId": "6e49139e-a311-4ca4-a43e-dbb6abf77c9b"
      },
      "outputs": [
        {
          "output_type": "execute_result",
          "data": {
            "text/plain": [
              "torch.Size([128, 28, 28])"
            ]
          },
          "metadata": {},
          "execution_count": 11
        }
      ],
      "source": [
        "sample.shape"
      ]
    },
    {
      "cell_type": "code",
      "execution_count": 10,
      "metadata": {
        "colab": {
          "base_uri": "https://localhost:8080/",
          "height": 469
        },
        "id": "-_64kfuD8SLO",
        "outputId": "bf7790bc-811f-4d13-f8db-306cafc678d4"
      },
      "outputs": [
        {
          "output_type": "stream",
          "name": "stdout",
          "text": [
            "torch.Size([128, 64])\n"
          ]
        },
        {
          "output_type": "execute_result",
          "data": {
            "text/plain": [
              "<matplotlib.image.AxesImage at 0x7b721534d4b0>"
            ]
          },
          "metadata": {},
          "execution_count": 10
        },
        {
          "output_type": "display_data",
          "data": {
            "text/plain": [
              "<Figure size 640x480 with 1 Axes>"
            ],
            "image/png": "[encoded data removed]"
          },
          "metadata": {}
        }
      ],
      "source": [
        "linear_layer = LinearEx(in_features=sample.size(-1), out_features=hidden_size).to(device)\n",
        "layer_pred = list(linear_layer(sample[:, sequence, :]) for sequence in range(sample.size(1)))\n",
        "print(layer_pred[0].size())\n",
        "plt.imshow(layer_pred[0].detach().cpu())"
      ]
    },
    {
      "cell_type": "code",
      "execution_count": 12,
      "metadata": {
        "id": "qL_3L1ouKYrq"
      },
      "outputs": [],
      "source": [
        "class SimpleAttention1d(nn.Module):\n",
        "    __constants__ = ['input_size']\n",
        "\n",
        "    def __init__(self, input_size: int, device: str = 'cpu'):\n",
        "        super(SimpleAttention1d, self).__init__()\n",
        "\n",
        "        self.linear = LinearEx(in_features=input_size, out_features=input_size, device=device)\n",
        "        self.batch_norm = nn.BatchNorm1d(num_features=input_size, device=device)\n",
        "        self.softmax = nn.Softmax(dim=1)\n",
        "\n",
        "    def forward(self, inputs: torch.Tensor):\n",
        "        inputs = inputs.to(device)\n",
        "\n",
        "        logits = self.softmax(self.batch_norm(self.linear(inputs)))\n",
        "        embeddings = torch.multiply(inputs, logits)\n",
        "\n",
        "        return embeddings"
      ]
    },
    {
      "cell_type": "code",
      "execution_count": 13,
      "metadata": {
        "id": "y6zpqfArPULH"
      },
      "outputs": [],
      "source": [
        "def plot_results(image_1, image_2):\n",
        "    fig = plt.figure(figsize=(8, 8))\n",
        "\n",
        "    ax = fig.add_subplot(1, 2, 1)\n",
        "    plt.xticks([]), plt.yticks([])\n",
        "    ax.imshow(image_1)\n",
        "\n",
        "    ax = fig.add_subplot(1, 2, 2)\n",
        "    plt.xticks([]), plt.yticks([])\n",
        "    ax.imshow(image_2)"
      ]
    },
    {
      "cell_type": "code",
      "execution_count": 14,
      "metadata": {
        "colab": {
          "base_uri": "https://localhost:8080/",
          "height": 318
        },
        "id": "xGOM7hJ0O2_Z",
        "outputId": "e0930d1f-beb0-442e-8522-89cbff20211e"
      },
      "outputs": [
        {
          "output_type": "display_data",
          "data": {
            "text/plain": [
              "<Figure size 800x800 with 2 Axes>"
            ],
            "image/png": "[encoded data removed]"
          },
          "metadata": {}
        }
      ],
      "source": [
        "att_layer = SimpleAttention1d(input_size=sample.size(-1)).to(device)\n",
        "a_att = att_layer(sample[0]).detach().cpu()\n",
        "\n",
        "plot_results(sample[0], a_att)"
      ]
    },
    {
      "cell_type": "code",
      "execution_count": 15,
      "metadata": {
        "id": "1nluK-iJ3rqF"
      },
      "outputs": [],
      "source": [
        "class RNNCellEx(nn.Module):\n",
        "    __constants__ = ['input_size', 'hidden_size', 'bias', 'nonlinearity']\n",
        "\n",
        "    def __init__(self, input_size: int, hidden_size: int, bias: bool = True, nonlinearity: str = 'tanh', device: str = 'cpu'):\n",
        "        super(RNNCellEx, self).__init__()\n",
        "\n",
        "        self.nonlinearity = nonlinearity\n",
        "\n",
        "        self.in_to_hidden = LinearEx(in_features=input_size, out_features=hidden_size, bias=bias, device=device)\n",
        "        #self.in_to_hidden = LinearEx(in_features=input_size + hidden_size, out_features=hidden_size, bias=bias, device=device)\n",
        "        self.hidden_to_hidden = LinearEx(in_features=hidden_size, out_features=hidden_size, bias=bias, device=device)\n",
        "\n",
        "        self.layer_norm = nn.LayerNorm(normalized_shape=hidden_size).to(device)\n",
        "\n",
        "    def forward(self, inputs: torch.Tensor, states: torch.Tensor) -> torch.Tensor:\n",
        "        if self.nonlinearity == 'tanh':\n",
        "            tanh = nn.Tanh()\n",
        "            states = tanh(self.layer_norm(self.in_to_hidden(inputs) + self.hidden_to_hidden(states)))\n",
        "            return states\n",
        "\n",
        "        elif self.nonlinearity == 'relu':\n",
        "            relu = nn.ReLU()\n",
        "            states = relu(self.layer_norm(self.in_to_hidden(inputs) + self.hidden_to_hidden(states)))\n",
        "            return states\n",
        "\n",
        "        else:\n",
        "            raise RuntimeError('Unknown nonlinearity: %s' % self.nonlinearity)"
      ]
    },
    {
      "cell_type": "code",
      "execution_count": 16,
      "metadata": {
        "colab": {
          "base_uri": "https://localhost:8080/",
          "height": 635
        },
        "id": "d8VM0oBr3rsr",
        "outputId": "3e687a90-4d7d-40f5-8a92-ded3b17861a6"
      },
      "outputs": [
        {
          "output_type": "stream",
          "name": "stdout",
          "text": [
            "CPU times: user 65.3 ms, sys: 905 µs, total: 66.2 ms\n",
            "Wall time: 72 ms\n"
          ]
        },
        {
          "output_type": "display_data",
          "data": {
            "text/plain": [
              "<Figure size 800x800 with 2 Axes>"
            ],
            "image/png": "[encoded data removed]"
          },
          "metadata": {}
        }
      ],
      "source": [
        "%%time\n",
        "input = sample # (batch_size, seq_len, input_size)\n",
        "h0_1 = torch.zeros(input.size(0), hidden_size) # batch_first=True\n",
        "h0_2 = torch.zeros(input.size(0), hidden_size)\n",
        "\n",
        "rnn_cell_layer = RNNCellEx(input_size=input.size(-1), hidden_size=hidden_size).to(device)\n",
        "att_layer = SimpleAttention1d(input_size=input.size(-1)).to(device)\n",
        "\n",
        "for sequence in range(input.size(1)):\n",
        "    x = att_layer(input[:, sequence, :])\n",
        "    h0_1 = rnn_cell_layer(x, h0_1)\n",
        "pred_att_rnn = h0_1\n",
        "\n",
        "for sequence in range(input.size(1)):\n",
        "    h0_2 = rnn_cell_layer(input[:, sequence, :], h0_2)\n",
        "pred_rnn = h0_2\n",
        "\n",
        "plot_results(pred_rnn.detach().cpu(), pred_att_rnn.detach().cpu())"
      ]
    },
    {
      "cell_type": "code",
      "execution_count": 17,
      "metadata": {
        "id": "5EmhX5ba3x8p"
      },
      "outputs": [],
      "source": [
        "class RNNLayer(nn.Module):\n",
        "    __constants__ = ['input_size', 'hidden_size', 'output_size', 'batch_first', 'num_layers', 'bias', 'nonlinearity', 'attention']\n",
        "\n",
        "    def __init__(self, input_size: int, hidden_size: int, output_size: int, batch_first: bool = False, num_layers: int = 1,\n",
        "                 bias: bool = True, nonlinearity: str = 'tanh', attention: bool = False, device: str = 'cpu'):\n",
        "        super(RNNLayer, self).__init__()\n",
        "        cond_factory = {'nonlinearity': nonlinearity, 'bias': bias}\n",
        "\n",
        "        self.num_layers = num_layers\n",
        "        self.batch_first = batch_first\n",
        "\n",
        "        self.hidden_size = hidden_size\n",
        "        self.out = output_size\n",
        "\n",
        "        self.attention = attention\n",
        "        if self.attention: self.att_layer = SimpleAttention1d(input_size=input_size).to(device)\n",
        "\n",
        "        self.rnn_cells = nn.ModuleList()\n",
        "        self.rnn_cells.append(RNNCellEx(input_size=input_size, hidden_size=hidden_size, **cond_factory).to(device)) # input cell\n",
        "        for _ in range(self.num_layers - 1):\n",
        "            self.rnn_cells.append(RNNCellEx(input_size=hidden_size, hidden_size=hidden_size, **cond_factory).to(device)) # hidden cells\n",
        "\n",
        "        if self.out is not None: self.hidden_to_output = LinearEx(in_features=hidden_size, out_features=output_size, bias=bias).to(device)\n",
        "\n",
        "\n",
        "    def forward(self, inputs: torch.Tensor):\n",
        "        max_batch_size = inputs.size(0) if self.batch_first else inputs.size(1)\n",
        "        sequence_len = inputs.size(1) if self.batch_first else inputs.size(0)\n",
        "\n",
        "        states = torch.autograd.Variable(torch.zeros(size=(self.num_layers, max_batch_size, self.hidden_size))).to(device)\n",
        "        memory_cell = list(states[layer] for layer in range(self.num_layers))\n",
        "\n",
        "        for sequence in range(sequence_len):\n",
        "            if self.attention: x = self.att_layer(inputs[:, sequence, :]) if self.batch_first else self.att_layer(inputs[sequence, :, :])\n",
        "            else: x = inputs[:, sequence, :] if self.batch_first else inputs[sequence, : , :]\n",
        "\n",
        "            for layer in range(self.num_layers):\n",
        "                if layer == 0: state = self.rnn_cells[layer](x, memory_cell[layer])\n",
        "                else: state = self.rnn_cells[layer](memory_cell[layer - 1], memory_cell[layer])\n",
        "                memory_cell[layer] = state\n",
        "\n",
        "        if self.out is not None: state = self.hidden_to_output(state)\n",
        "        return state, memory_cell"
      ]
    },
    {
      "cell_type": "markdown",
      "source": [
        "## Training & Scoring"
      ],
      "metadata": {
        "id": "2IMVxzTnRj52"
      }
    },
    {
      "cell_type": "code",
      "execution_count": 48,
      "metadata": {
        "id": "N3MRb4ZGWSFE"
      },
      "outputs": [],
      "source": [
        "import time\n",
        "\n",
        "def train_model(data, model, loss_fn, optimizer, scheduler = None, scheduler_step: int = 100, epochs: int = 3, show_step: int = 100):\n",
        "    count = 0\n",
        "    n_total_steps = len(data)\n",
        "\n",
        "    for epoch in range(epochs):\n",
        "        epoch_start_time = time.time()\n",
        "        print('Epoch %s/%s' % (epoch + 1, epochs))\n",
        "\n",
        "        for step, (images, labels) in enumerate(data):\n",
        "            optimizer.zero_grad()\n",
        "\n",
        "            train  = images.squeeze().to(device)\n",
        "            labels = labels.to(device)\n",
        "\n",
        "            output, _ = model(train)\n",
        "\n",
        "            loss = loss_fn(output, labels)\n",
        "            loss.backward()\n",
        "            optimizer.step()\n",
        "\n",
        "            count += 1\n",
        "\n",
        "            if (step+1) % show_step == 0:\n",
        "                print (f'Step [{step+1}/{n_total_steps}] | Time: {time.time() - epoch_start_time:.2f}s |  Loss: {loss.item():.4f}')\n",
        "            if (scheduler is not None) and (step % scheduler_step == 0): scheduler.step()\n",
        "        print('-' * 45)"
      ]
    },
    {
      "cell_type": "code",
      "execution_count": 47,
      "metadata": {
        "id": "ThBKxWgXWVzn"
      },
      "outputs": [],
      "source": [
        "def scoring(data, model):\n",
        "    with torch.no_grad():\n",
        "        scores = []\n",
        "        true_labels = []\n",
        "        for (images, labels) in tqdm(data, desc='Scoring data...', ncols=80):\n",
        "            images = images.squeeze().to(device)\n",
        "            labels = labels.to(device)\n",
        "\n",
        "            output, _ = model(images)\n",
        "\n",
        "            scores.append(output)\n",
        "            true_labels.append(labels)\n",
        "\n",
        "        scores = torch.concatenate(scores)\n",
        "        true_labels = torch.concatenate(true_labels)\n",
        "\n",
        "        return pd.DataFrame(scores.cpu(), columns=list(range(10))), true_labels"
      ]
    },
    {
      "cell_type": "code",
      "source": [
        "def accuracy(scores, y_true):\n",
        "    pred = []\n",
        "    print('Compute accuracy... ')\n",
        "    for score in scores.values:\n",
        "        for key, value in dict(enumerate(score)).items():\n",
        "            if score.max() == value: pred.append(key)\n",
        "\n",
        "    n_correct = 0\n",
        "    for index, value in enumerate(pred):\n",
        "        if value == y_true[index].cpu().numpy(): n_correct += 1\n",
        "\n",
        "    return n_correct / len(y_true)"
      ],
      "metadata": {
        "id": "bwGKYNokJba3"
      },
      "execution_count": 107,
      "outputs": []
    },
    {
      "cell_type": "code",
      "execution_count": 153,
      "metadata": {
        "colab": {
          "base_uri": "https://localhost:8080/"
        },
        "id": "5E2UmBE3eilS",
        "outputId": "4f1eb60d-c005-421b-f2cc-9ad89d03ab8f"
      },
      "outputs": [
        {
          "output_type": "execute_result",
          "data": {
            "text/plain": [
              "RNNLayer(\n",
              "  (att_layer): SimpleAttention1d(\n",
              "    (linear): LinearEx()\n",
              "    (batch_norm): BatchNorm1d(28, eps=1e-05, momentum=0.1, affine=True, track_running_stats=True)\n",
              "    (softmax): Softmax(dim=1)\n",
              "  )\n",
              "  (rnn_cells): ModuleList(\n",
              "    (0-1): 2 x RNNCellEx(\n",
              "      (in_to_hidden): LinearEx()\n",
              "      (hidden_to_hidden): LinearEx()\n",
              "      (layer_norm): LayerNorm((64,), eps=1e-05, elementwise_affine=True)\n",
              "    )\n",
              "  )\n",
              "  (hidden_to_output): LinearEx()\n",
              ")"
            ]
          },
          "metadata": {},
          "execution_count": 153
        }
      ],
      "source": [
        "model_custom = RNNLayer(input_size=input_size, hidden_size=hidden_size, output_size=num_classes,\n",
        "                        batch_first=True, num_layers=2, nonlinearity='tanh', attention=True).to(device)\n",
        "model_custom"
      ]
    },
    {
      "cell_type": "code",
      "execution_count": 154,
      "metadata": {
        "colab": {
          "base_uri": "https://localhost:8080/"
        },
        "id": "dmpfEE84isYE",
        "outputId": "542e3097-6124-4a7c-d48b-fb47dd786d01"
      },
      "outputs": [
        {
          "output_type": "execute_result",
          "data": {
            "text/plain": [
              "==========================================================================================\n",
              "Layer (type:depth-idx)                   Output Shape              Param #\n",
              "==========================================================================================\n",
              "RNNLayer                                 [128, 10]                 --\n",
              "├─SimpleAttention1d: 1-1                 [128, 28]                 --\n",
              "│    └─LinearEx: 2-1                     [128, 28]                 812\n",
              "│    └─BatchNorm1d: 2-2                  [128, 28]                 56\n",
              "│    └─Softmax: 2-3                      [128, 28]                 --\n",
              "├─ModuleList: 1-56                       --                        (recursive)\n",
              "│    └─RNNCellEx: 2-4                    [128, 64]                 --\n",
              "│    │    └─LinearEx: 3-1                [128, 64]                 1,856\n",
              "│    │    └─LinearEx: 3-2                [128, 64]                 4,160\n",
              "│    │    └─LayerNorm: 3-3               [128, 64]                 128\n",
              "│    └─RNNCellEx: 2-5                    [128, 64]                 --\n",
              "│    │    └─LinearEx: 3-4                [128, 64]                 4,160\n",
              "│    │    └─LinearEx: 3-5                [128, 64]                 4,160\n",
              "│    │    └─LayerNorm: 3-6               [128, 64]                 128\n",
              "├─SimpleAttention1d: 1-3                 [128, 28]                 (recursive)\n",
              "│    └─LinearEx: 2-6                     [128, 28]                 (recursive)\n",
              "│    └─BatchNorm1d: 2-7                  [128, 28]                 (recursive)\n",
              "│    └─Softmax: 2-8                      [128, 28]                 --\n",
              "├─ModuleList: 1-56                       --                        (recursive)\n",
              "│    └─RNNCellEx: 2-9                    [128, 64]                 (recursive)\n",
              "│    │    └─LinearEx: 3-7                [128, 64]                 (recursive)\n",
              "│    │    └─LinearEx: 3-8                [128, 64]                 (recursive)\n",
              "│    │    └─LayerNorm: 3-9               [128, 64]                 (recursive)\n",
              "│    └─RNNCellEx: 2-10                   [128, 64]                 (recursive)\n",
              "│    │    └─LinearEx: 3-10               [128, 64]                 (recursive)\n",
              "│    │    └─LinearEx: 3-11               [128, 64]                 (recursive)\n",
              "│    │    └─LayerNorm: 3-12              [128, 64]                 (recursive)\n",
              "├─SimpleAttention1d: 1-5                 [128, 28]                 (recursive)\n",
              "│    └─LinearEx: 2-11                    [128, 28]                 (recursive)\n",
              "│    └─BatchNorm1d: 2-12                 [128, 28]                 (recursive)\n",
              "│    └─Softmax: 2-13                     [128, 28]                 --\n",
              "├─ModuleList: 1-56                       --                        (recursive)\n",
              "│    └─RNNCellEx: 2-14                   [128, 64]                 (recursive)\n",
              "│    │    └─LinearEx: 3-13               [128, 64]                 (recursive)\n",
              "│    │    └─LinearEx: 3-14               [128, 64]                 (recursive)\n",
              "│    │    └─LayerNorm: 3-15              [128, 64]                 (recursive)\n",
              "│    └─RNNCellEx: 2-15                   [128, 64]                 (recursive)\n",
              "│    │    └─LinearEx: 3-16               [128, 64]                 (recursive)\n",
              "│    │    └─LinearEx: 3-17               [128, 64]                 (recursive)\n",
              "│    │    └─LayerNorm: 3-18              [128, 64]                 (recursive)\n",
              "├─SimpleAttention1d: 1-7                 [128, 28]                 (recursive)\n",
              "│    └─LinearEx: 2-16                    [128, 28]                 (recursive)\n",
              "│    └─BatchNorm1d: 2-17                 [128, 28]                 (recursive)\n",
              "│    └─Softmax: 2-18                     [128, 28]                 --\n",
              "├─ModuleList: 1-56                       --                        (recursive)\n",
              "│    └─RNNCellEx: 2-19                   [128, 64]                 (recursive)\n",
              "│    │    └─LinearEx: 3-19               [128, 64]                 (recursive)\n",
              "│    │    └─LinearEx: 3-20               [128, 64]                 (recursive)\n",
              "│    │    └─LayerNorm: 3-21              [128, 64]                 (recursive)\n",
              "│    └─RNNCellEx: 2-20                   [128, 64]                 (recursive)\n",
              "│    │    └─LinearEx: 3-22               [128, 64]                 (recursive)\n",
              "│    │    └─LinearEx: 3-23               [128, 64]                 (recursive)\n",
              "│    │    └─LayerNorm: 3-24              [128, 64]                 (recursive)\n",
              "├─SimpleAttention1d: 1-9                 [128, 28]                 (recursive)\n",
              "│    └─LinearEx: 2-21                    [128, 28]                 (recursive)\n",
              "│    └─BatchNorm1d: 2-22                 [128, 28]                 (recursive)\n",
              "│    └─Softmax: 2-23                     [128, 28]                 --\n",
              "├─ModuleList: 1-56                       --                        (recursive)\n",
              "│    └─RNNCellEx: 2-24                   [128, 64]                 (recursive)\n",
              "│    │    └─LinearEx: 3-25               [128, 64]                 (recursive)\n",
              "│    │    └─LinearEx: 3-26               [128, 64]                 (recursive)\n",
              "│    │    └─LayerNorm: 3-27              [128, 64]                 (recursive)\n",
              "│    └─RNNCellEx: 2-25                   [128, 64]                 (recursive)\n",
              "│    │    └─LinearEx: 3-28               [128, 64]                 (recursive)\n",
              "│    │    └─LinearEx: 3-29               [128, 64]                 (recursive)\n",
              "│    │    └─LayerNorm: 3-30              [128, 64]                 (recursive)\n",
              "├─SimpleAttention1d: 1-11                [128, 28]                 (recursive)\n",
              "│    └─LinearEx: 2-26                    [128, 28]                 (recursive)\n",
              "│    └─BatchNorm1d: 2-27                 [128, 28]                 (recursive)\n",
              "│    └─Softmax: 2-28                     [128, 28]                 --\n",
              "├─ModuleList: 1-56                       --                        (recursive)\n",
              "│    └─RNNCellEx: 2-29                   [128, 64]                 (recursive)\n",
              "│    │    └─LinearEx: 3-31               [128, 64]                 (recursive)\n",
              "│    │    └─LinearEx: 3-32               [128, 64]                 (recursive)\n",
              "│    │    └─LayerNorm: 3-33              [128, 64]                 (recursive)\n",
              "│    └─RNNCellEx: 2-30                   [128, 64]                 (recursive)\n",
              "│    │    └─LinearEx: 3-34               [128, 64]                 (recursive)\n",
              "│    │    └─LinearEx: 3-35               [128, 64]                 (recursive)\n",
              "│    │    └─LayerNorm: 3-36              [128, 64]                 (recursive)\n",
              "├─SimpleAttention1d: 1-13                [128, 28]                 (recursive)\n",
              "│    └─LinearEx: 2-31                    [128, 28]                 (recursive)\n",
              "│    └─BatchNorm1d: 2-32                 [128, 28]                 (recursive)\n",
              "│    └─Softmax: 2-33                     [128, 28]                 --\n",
              "├─ModuleList: 1-56                       --                        (recursive)\n",
              "│    └─RNNCellEx: 2-34                   [128, 64]                 (recursive)\n",
              "│    │    └─LinearEx: 3-37               [128, 64]                 (recursive)\n",
              "│    │    └─LinearEx: 3-38               [128, 64]                 (recursive)\n",
              "│    │    └─LayerNorm: 3-39              [128, 64]                 (recursive)\n",
              "│    └─RNNCellEx: 2-35                   [128, 64]                 (recursive)\n",
              "│    │    └─LinearEx: 3-40               [128, 64]                 (recursive)\n",
              "│    │    └─LinearEx: 3-41               [128, 64]                 (recursive)\n",
              "│    │    └─LayerNorm: 3-42              [128, 64]                 (recursive)\n",
              "├─SimpleAttention1d: 1-15                [128, 28]                 (recursive)\n",
              "│    └─LinearEx: 2-36                    [128, 28]                 (recursive)\n",
              "│    └─BatchNorm1d: 2-37                 [128, 28]                 (recursive)\n",
              "│    └─Softmax: 2-38                     [128, 28]                 --\n",
              "├─ModuleList: 1-56                       --                        (recursive)\n",
              "│    └─RNNCellEx: 2-39                   [128, 64]                 (recursive)\n",
              "│    │    └─LinearEx: 3-43               [128, 64]                 (recursive)\n",
              "│    │    └─LinearEx: 3-44               [128, 64]                 (recursive)\n",
              "│    │    └─LayerNorm: 3-45              [128, 64]                 (recursive)\n",
              "│    └─RNNCellEx: 2-40                   [128, 64]                 (recursive)\n",
              "│    │    └─LinearEx: 3-46               [128, 64]                 (recursive)\n",
              "│    │    └─LinearEx: 3-47               [128, 64]                 (recursive)\n",
              "│    │    └─LayerNorm: 3-48              [128, 64]                 (recursive)\n",
              "├─SimpleAttention1d: 1-17                [128, 28]                 (recursive)\n",
              "│    └─LinearEx: 2-41                    [128, 28]                 (recursive)\n",
              "│    └─BatchNorm1d: 2-42                 [128, 28]                 (recursive)\n",
              "│    └─Softmax: 2-43                     [128, 28]                 --\n",
              "├─ModuleList: 1-56                       --                        (recursive)\n",
              "│    └─RNNCellEx: 2-44                   [128, 64]                 (recursive)\n",
              "│    │    └─LinearEx: 3-49               [128, 64]                 (recursive)\n",
              "│    │    └─LinearEx: 3-50               [128, 64]                 (recursive)\n",
              "│    │    └─LayerNorm: 3-51              [128, 64]                 (recursive)\n",
              "│    └─RNNCellEx: 2-45                   [128, 64]                 (recursive)\n",
              "│    │    └─LinearEx: 3-52               [128, 64]                 (recursive)\n",
              "│    │    └─LinearEx: 3-53               [128, 64]                 (recursive)\n",
              "│    │    └─LayerNorm: 3-54              [128, 64]                 (recursive)\n",
              "├─SimpleAttention1d: 1-19                [128, 28]                 (recursive)\n",
              "│    └─LinearEx: 2-46                    [128, 28]                 (recursive)\n",
              "│    └─BatchNorm1d: 2-47                 [128, 28]                 (recursive)\n",
              "│    └─Softmax: 2-48                     [128, 28]                 --\n",
              "├─ModuleList: 1-56                       --                        (recursive)\n",
              "│    └─RNNCellEx: 2-49                   [128, 64]                 (recursive)\n",
              "│    │    └─LinearEx: 3-55               [128, 64]                 (recursive)\n",
              "│    │    └─LinearEx: 3-56               [128, 64]                 (recursive)\n",
              "│    │    └─LayerNorm: 3-57              [128, 64]                 (recursive)\n",
              "│    └─RNNCellEx: 2-50                   [128, 64]                 (recursive)\n",
              "│    │    └─LinearEx: 3-58               [128, 64]                 (recursive)\n",
              "│    │    └─LinearEx: 3-59               [128, 64]                 (recursive)\n",
              "│    │    └─LayerNorm: 3-60              [128, 64]                 (recursive)\n",
              "├─SimpleAttention1d: 1-21                [128, 28]                 (recursive)\n",
              "│    └─LinearEx: 2-51                    [128, 28]                 (recursive)\n",
              "│    └─BatchNorm1d: 2-52                 [128, 28]                 (recursive)\n",
              "│    └─Softmax: 2-53                     [128, 28]                 --\n",
              "├─ModuleList: 1-56                       --                        (recursive)\n",
              "│    └─RNNCellEx: 2-54                   [128, 64]                 (recursive)\n",
              "│    │    └─LinearEx: 3-61               [128, 64]                 (recursive)\n",
              "│    │    └─LinearEx: 3-62               [128, 64]                 (recursive)\n",
              "│    │    └─LayerNorm: 3-63              [128, 64]                 (recursive)\n",
              "│    └─RNNCellEx: 2-55                   [128, 64]                 (recursive)\n",
              "│    │    └─LinearEx: 3-64               [128, 64]                 (recursive)\n",
              "│    │    └─LinearEx: 3-65               [128, 64]                 (recursive)\n",
              "│    │    └─LayerNorm: 3-66              [128, 64]                 (recursive)\n",
              "├─SimpleAttention1d: 1-23                [128, 28]                 (recursive)\n",
              "│    └─LinearEx: 2-56                    [128, 28]                 (recursive)\n",
              "│    └─BatchNorm1d: 2-57                 [128, 28]                 (recursive)\n",
              "│    └─Softmax: 2-58                     [128, 28]                 --\n",
              "├─ModuleList: 1-56                       --                        (recursive)\n",
              "│    └─RNNCellEx: 2-59                   [128, 64]                 (recursive)\n",
              "│    │    └─LinearEx: 3-67               [128, 64]                 (recursive)\n",
              "│    │    └─LinearEx: 3-68               [128, 64]                 (recursive)\n",
              "│    │    └─LayerNorm: 3-69              [128, 64]                 (recursive)\n",
              "│    └─RNNCellEx: 2-60                   [128, 64]                 (recursive)\n",
              "│    │    └─LinearEx: 3-70               [128, 64]                 (recursive)\n",
              "│    │    └─LinearEx: 3-71               [128, 64]                 (recursive)\n",
              "│    │    └─LayerNorm: 3-72              [128, 64]                 (recursive)\n",
              "├─SimpleAttention1d: 1-25                [128, 28]                 (recursive)\n",
              "│    └─LinearEx: 2-61                    [128, 28]                 (recursive)\n",
              "│    └─BatchNorm1d: 2-62                 [128, 28]                 (recursive)\n",
              "│    └─Softmax: 2-63                     [128, 28]                 --\n",
              "├─ModuleList: 1-56                       --                        (recursive)\n",
              "│    └─RNNCellEx: 2-64                   [128, 64]                 (recursive)\n",
              "│    │    └─LinearEx: 3-73               [128, 64]                 (recursive)\n",
              "│    │    └─LinearEx: 3-74               [128, 64]                 (recursive)\n",
              "│    │    └─LayerNorm: 3-75              [128, 64]                 (recursive)\n",
              "│    └─RNNCellEx: 2-65                   [128, 64]                 (recursive)\n",
              "│    │    └─LinearEx: 3-76               [128, 64]                 (recursive)\n",
              "│    │    └─LinearEx: 3-77               [128, 64]                 (recursive)\n",
              "│    │    └─LayerNorm: 3-78              [128, 64]                 (recursive)\n",
              "├─SimpleAttention1d: 1-27                [128, 28]                 (recursive)\n",
              "│    └─LinearEx: 2-66                    [128, 28]                 (recursive)\n",
              "│    └─BatchNorm1d: 2-67                 [128, 28]                 (recursive)\n",
              "│    └─Softmax: 2-68                     [128, 28]                 --\n",
              "├─ModuleList: 1-56                       --                        (recursive)\n",
              "│    └─RNNCellEx: 2-69                   [128, 64]                 (recursive)\n",
              "│    │    └─LinearEx: 3-79               [128, 64]                 (recursive)\n",
              "│    │    └─LinearEx: 3-80               [128, 64]                 (recursive)\n",
              "│    │    └─LayerNorm: 3-81              [128, 64]                 (recursive)\n",
              "│    └─RNNCellEx: 2-70                   [128, 64]                 (recursive)\n",
              "│    │    └─LinearEx: 3-82               [128, 64]                 (recursive)\n",
              "│    │    └─LinearEx: 3-83               [128, 64]                 (recursive)\n",
              "│    │    └─LayerNorm: 3-84              [128, 64]                 (recursive)\n",
              "├─SimpleAttention1d: 1-29                [128, 28]                 (recursive)\n",
              "│    └─LinearEx: 2-71                    [128, 28]                 (recursive)\n",
              "│    └─BatchNorm1d: 2-72                 [128, 28]                 (recursive)\n",
              "│    └─Softmax: 2-73                     [128, 28]                 --\n",
              "├─ModuleList: 1-56                       --                        (recursive)\n",
              "│    └─RNNCellEx: 2-74                   [128, 64]                 (recursive)\n",
              "│    │    └─LinearEx: 3-85               [128, 64]                 (recursive)\n",
              "│    │    └─LinearEx: 3-86               [128, 64]                 (recursive)\n",
              "│    │    └─LayerNorm: 3-87              [128, 64]                 (recursive)\n",
              "│    └─RNNCellEx: 2-75                   [128, 64]                 (recursive)\n",
              "│    │    └─LinearEx: 3-88               [128, 64]                 (recursive)\n",
              "│    │    └─LinearEx: 3-89               [128, 64]                 (recursive)\n",
              "│    │    └─LayerNorm: 3-90              [128, 64]                 (recursive)\n",
              "├─SimpleAttention1d: 1-31                [128, 28]                 (recursive)\n",
              "│    └─LinearEx: 2-76                    [128, 28]                 (recursive)\n",
              "│    └─BatchNorm1d: 2-77                 [128, 28]                 (recursive)\n",
              "│    └─Softmax: 2-78                     [128, 28]                 --\n",
              "├─ModuleList: 1-56                       --                        (recursive)\n",
              "│    └─RNNCellEx: 2-79                   [128, 64]                 (recursive)\n",
              "│    │    └─LinearEx: 3-91               [128, 64]                 (recursive)\n",
              "│    │    └─LinearEx: 3-92               [128, 64]                 (recursive)\n",
              "│    │    └─LayerNorm: 3-93              [128, 64]                 (recursive)\n",
              "│    └─RNNCellEx: 2-80                   [128, 64]                 (recursive)\n",
              "│    │    └─LinearEx: 3-94               [128, 64]                 (recursive)\n",
              "│    │    └─LinearEx: 3-95               [128, 64]                 (recursive)\n",
              "│    │    └─LayerNorm: 3-96              [128, 64]                 (recursive)\n",
              "├─SimpleAttention1d: 1-33                [128, 28]                 (recursive)\n",
              "│    └─LinearEx: 2-81                    [128, 28]                 (recursive)\n",
              "│    └─BatchNorm1d: 2-82                 [128, 28]                 (recursive)\n",
              "│    └─Softmax: 2-83                     [128, 28]                 --\n",
              "├─ModuleList: 1-56                       --                        (recursive)\n",
              "│    └─RNNCellEx: 2-84                   [128, 64]                 (recursive)\n",
              "│    │    └─LinearEx: 3-97               [128, 64]                 (recursive)\n",
              "│    │    └─LinearEx: 3-98               [128, 64]                 (recursive)\n",
              "│    │    └─LayerNorm: 3-99              [128, 64]                 (recursive)\n",
              "│    └─RNNCellEx: 2-85                   [128, 64]                 (recursive)\n",
              "│    │    └─LinearEx: 3-100              [128, 64]                 (recursive)\n",
              "│    │    └─LinearEx: 3-101              [128, 64]                 (recursive)\n",
              "│    │    └─LayerNorm: 3-102             [128, 64]                 (recursive)\n",
              "├─SimpleAttention1d: 1-35                [128, 28]                 (recursive)\n",
              "│    └─LinearEx: 2-86                    [128, 28]                 (recursive)\n",
              "│    └─BatchNorm1d: 2-87                 [128, 28]                 (recursive)\n",
              "│    └─Softmax: 2-88                     [128, 28]                 --\n",
              "├─ModuleList: 1-56                       --                        (recursive)\n",
              "│    └─RNNCellEx: 2-89                   [128, 64]                 (recursive)\n",
              "│    │    └─LinearEx: 3-103              [128, 64]                 (recursive)\n",
              "│    │    └─LinearEx: 3-104              [128, 64]                 (recursive)\n",
              "│    │    └─LayerNorm: 3-105             [128, 64]                 (recursive)\n",
              "│    └─RNNCellEx: 2-90                   [128, 64]                 (recursive)\n",
              "│    │    └─LinearEx: 3-106              [128, 64]                 (recursive)\n",
              "│    │    └─LinearEx: 3-107              [128, 64]                 (recursive)\n",
              "│    │    └─LayerNorm: 3-108             [128, 64]                 (recursive)\n",
              "├─SimpleAttention1d: 1-37                [128, 28]                 (recursive)\n",
              "│    └─LinearEx: 2-91                    [128, 28]                 (recursive)\n",
              "│    └─BatchNorm1d: 2-92                 [128, 28]                 (recursive)\n",
              "│    └─Softmax: 2-93                     [128, 28]                 --\n",
              "├─ModuleList: 1-56                       --                        (recursive)\n",
              "│    └─RNNCellEx: 2-94                   [128, 64]                 (recursive)\n",
              "│    │    └─LinearEx: 3-109              [128, 64]                 (recursive)\n",
              "│    │    └─LinearEx: 3-110              [128, 64]                 (recursive)\n",
              "│    │    └─LayerNorm: 3-111             [128, 64]                 (recursive)\n",
              "│    └─RNNCellEx: 2-95                   [128, 64]                 (recursive)\n",
              "│    │    └─LinearEx: 3-112              [128, 64]                 (recursive)\n",
              "│    │    └─LinearEx: 3-113              [128, 64]                 (recursive)\n",
              "│    │    └─LayerNorm: 3-114             [128, 64]                 (recursive)\n",
              "├─SimpleAttention1d: 1-39                [128, 28]                 (recursive)\n",
              "│    └─LinearEx: 2-96                    [128, 28]                 (recursive)\n",
              "│    └─BatchNorm1d: 2-97                 [128, 28]                 (recursive)\n",
              "│    └─Softmax: 2-98                     [128, 28]                 --\n",
              "├─ModuleList: 1-56                       --                        (recursive)\n",
              "│    └─RNNCellEx: 2-99                   [128, 64]                 (recursive)\n",
              "│    │    └─LinearEx: 3-115              [128, 64]                 (recursive)\n",
              "│    │    └─LinearEx: 3-116              [128, 64]                 (recursive)\n",
              "│    │    └─LayerNorm: 3-117             [128, 64]                 (recursive)\n",
              "│    └─RNNCellEx: 2-100                  [128, 64]                 (recursive)\n",
              "│    │    └─LinearEx: 3-118              [128, 64]                 (recursive)\n",
              "│    │    └─LinearEx: 3-119              [128, 64]                 (recursive)\n",
              "│    │    └─LayerNorm: 3-120             [128, 64]                 (recursive)\n",
              "├─SimpleAttention1d: 1-41                [128, 28]                 (recursive)\n",
              "│    └─LinearEx: 2-101                   [128, 28]                 (recursive)\n",
              "│    └─BatchNorm1d: 2-102                [128, 28]                 (recursive)\n",
              "│    └─Softmax: 2-103                    [128, 28]                 --\n",
              "├─ModuleList: 1-56                       --                        (recursive)\n",
              "│    └─RNNCellEx: 2-104                  [128, 64]                 (recursive)\n",
              "│    │    └─LinearEx: 3-121              [128, 64]                 (recursive)\n",
              "│    │    └─LinearEx: 3-122              [128, 64]                 (recursive)\n",
              "│    │    └─LayerNorm: 3-123             [128, 64]                 (recursive)\n",
              "│    └─RNNCellEx: 2-105                  [128, 64]                 (recursive)\n",
              "│    │    └─LinearEx: 3-124              [128, 64]                 (recursive)\n",
              "│    │    └─LinearEx: 3-125              [128, 64]                 (recursive)\n",
              "│    │    └─LayerNorm: 3-126             [128, 64]                 (recursive)\n",
              "├─SimpleAttention1d: 1-43                [128, 28]                 (recursive)\n",
              "│    └─LinearEx: 2-106                   [128, 28]                 (recursive)\n",
              "│    └─BatchNorm1d: 2-107                [128, 28]                 (recursive)\n",
              "│    └─Softmax: 2-108                    [128, 28]                 --\n",
              "├─ModuleList: 1-56                       --                        (recursive)\n",
              "│    └─RNNCellEx: 2-109                  [128, 64]                 (recursive)\n",
              "│    │    └─LinearEx: 3-127              [128, 64]                 (recursive)\n",
              "│    │    └─LinearEx: 3-128              [128, 64]                 (recursive)\n",
              "│    │    └─LayerNorm: 3-129             [128, 64]                 (recursive)\n",
              "│    └─RNNCellEx: 2-110                  [128, 64]                 (recursive)\n",
              "│    │    └─LinearEx: 3-130              [128, 64]                 (recursive)\n",
              "│    │    └─LinearEx: 3-131              [128, 64]                 (recursive)\n",
              "│    │    └─LayerNorm: 3-132             [128, 64]                 (recursive)\n",
              "├─SimpleAttention1d: 1-45                [128, 28]                 (recursive)\n",
              "│    └─LinearEx: 2-111                   [128, 28]                 (recursive)\n",
              "│    └─BatchNorm1d: 2-112                [128, 28]                 (recursive)\n",
              "│    └─Softmax: 2-113                    [128, 28]                 --\n",
              "├─ModuleList: 1-56                       --                        (recursive)\n",
              "│    └─RNNCellEx: 2-114                  [128, 64]                 (recursive)\n",
              "│    │    └─LinearEx: 3-133              [128, 64]                 (recursive)\n",
              "│    │    └─LinearEx: 3-134              [128, 64]                 (recursive)\n",
              "│    │    └─LayerNorm: 3-135             [128, 64]                 (recursive)\n",
              "│    └─RNNCellEx: 2-115                  [128, 64]                 (recursive)\n",
              "│    │    └─LinearEx: 3-136              [128, 64]                 (recursive)\n",
              "│    │    └─LinearEx: 3-137              [128, 64]                 (recursive)\n",
              "│    │    └─LayerNorm: 3-138             [128, 64]                 (recursive)\n",
              "├─SimpleAttention1d: 1-47                [128, 28]                 (recursive)\n",
              "│    └─LinearEx: 2-116                   [128, 28]                 (recursive)\n",
              "│    └─BatchNorm1d: 2-117                [128, 28]                 (recursive)\n",
              "│    └─Softmax: 2-118                    [128, 28]                 --\n",
              "├─ModuleList: 1-56                       --                        (recursive)\n",
              "│    └─RNNCellEx: 2-119                  [128, 64]                 (recursive)\n",
              "│    │    └─LinearEx: 3-139              [128, 64]                 (recursive)\n",
              "│    │    └─LinearEx: 3-140              [128, 64]                 (recursive)\n",
              "│    │    └─LayerNorm: 3-141             [128, 64]                 (recursive)\n",
              "│    └─RNNCellEx: 2-120                  [128, 64]                 (recursive)\n",
              "│    │    └─LinearEx: 3-142              [128, 64]                 (recursive)\n",
              "│    │    └─LinearEx: 3-143              [128, 64]                 (recursive)\n",
              "│    │    └─LayerNorm: 3-144             [128, 64]                 (recursive)\n",
              "├─SimpleAttention1d: 1-49                [128, 28]                 (recursive)\n",
              "│    └─LinearEx: 2-121                   [128, 28]                 (recursive)\n",
              "│    └─BatchNorm1d: 2-122                [128, 28]                 (recursive)\n",
              "│    └─Softmax: 2-123                    [128, 28]                 --\n",
              "├─ModuleList: 1-56                       --                        (recursive)\n",
              "│    └─RNNCellEx: 2-124                  [128, 64]                 (recursive)\n",
              "│    │    └─LinearEx: 3-145              [128, 64]                 (recursive)\n",
              "│    │    └─LinearEx: 3-146              [128, 64]                 (recursive)\n",
              "│    │    └─LayerNorm: 3-147             [128, 64]                 (recursive)\n",
              "│    └─RNNCellEx: 2-125                  [128, 64]                 (recursive)\n",
              "│    │    └─LinearEx: 3-148              [128, 64]                 (recursive)\n",
              "│    │    └─LinearEx: 3-149              [128, 64]                 (recursive)\n",
              "│    │    └─LayerNorm: 3-150             [128, 64]                 (recursive)\n",
              "├─SimpleAttention1d: 1-51                [128, 28]                 (recursive)\n",
              "│    └─LinearEx: 2-126                   [128, 28]                 (recursive)\n",
              "│    └─BatchNorm1d: 2-127                [128, 28]                 (recursive)\n",
              "│    └─Softmax: 2-128                    [128, 28]                 --\n",
              "├─ModuleList: 1-56                       --                        (recursive)\n",
              "│    └─RNNCellEx: 2-129                  [128, 64]                 (recursive)\n",
              "│    │    └─LinearEx: 3-151              [128, 64]                 (recursive)\n",
              "│    │    └─LinearEx: 3-152              [128, 64]                 (recursive)\n",
              "│    │    └─LayerNorm: 3-153             [128, 64]                 (recursive)\n",
              "│    └─RNNCellEx: 2-130                  [128, 64]                 (recursive)\n",
              "│    │    └─LinearEx: 3-154              [128, 64]                 (recursive)\n",
              "│    │    └─LinearEx: 3-155              [128, 64]                 (recursive)\n",
              "│    │    └─LayerNorm: 3-156             [128, 64]                 (recursive)\n",
              "├─SimpleAttention1d: 1-53                [128, 28]                 (recursive)\n",
              "│    └─LinearEx: 2-131                   [128, 28]                 (recursive)\n",
              "│    └─BatchNorm1d: 2-132                [128, 28]                 (recursive)\n",
              "│    └─Softmax: 2-133                    [128, 28]                 --\n",
              "├─ModuleList: 1-56                       --                        (recursive)\n",
              "│    └─RNNCellEx: 2-134                  [128, 64]                 (recursive)\n",
              "│    │    └─LinearEx: 3-157              [128, 64]                 (recursive)\n",
              "│    │    └─LinearEx: 3-158              [128, 64]                 (recursive)\n",
              "│    │    └─LayerNorm: 3-159             [128, 64]                 (recursive)\n",
              "│    └─RNNCellEx: 2-135                  [128, 64]                 (recursive)\n",
              "│    │    └─LinearEx: 3-160              [128, 64]                 (recursive)\n",
              "│    │    └─LinearEx: 3-161              [128, 64]                 (recursive)\n",
              "│    │    └─LayerNorm: 3-162             [128, 64]                 (recursive)\n",
              "├─SimpleAttention1d: 1-55                [128, 28]                 (recursive)\n",
              "│    └─LinearEx: 2-136                   [128, 28]                 (recursive)\n",
              "│    └─BatchNorm1d: 2-137                [128, 28]                 (recursive)\n",
              "│    └─Softmax: 2-138                    [128, 28]                 --\n",
              "├─ModuleList: 1-56                       --                        (recursive)\n",
              "│    └─RNNCellEx: 2-139                  [128, 64]                 (recursive)\n",
              "│    │    └─LinearEx: 3-163              [128, 64]                 (recursive)\n",
              "│    │    └─LinearEx: 3-164              [128, 64]                 (recursive)\n",
              "│    │    └─LayerNorm: 3-165             [128, 64]                 (recursive)\n",
              "│    └─RNNCellEx: 2-140                  [128, 64]                 (recursive)\n",
              "│    │    └─LinearEx: 3-166              [128, 64]                 (recursive)\n",
              "│    │    └─LinearEx: 3-167              [128, 64]                 (recursive)\n",
              "│    │    └─LayerNorm: 3-168             [128, 64]                 (recursive)\n",
              "├─LinearEx: 1-57                         [128, 10]                 650\n",
              "==========================================================================================\n",
              "Total params: 16,110\n",
              "Trainable params: 16,110\n",
              "Non-trainable params: 0\n",
              "Total mult-adds (G): 3.31\n",
              "==========================================================================================\n",
              "Input size (MB): 0.40\n",
              "Forward/backward pass size (MB): 12.63\n",
              "Params size (MB): 0.06\n",
              "Estimated Total Size (MB): 13.09\n",
              "=========================================================================================="
            ]
          },
          "metadata": {},
          "execution_count": 154
        }
      ],
      "source": [
        "summary(model_custom, input_size=input.size())"
      ]
    },
    {
      "cell_type": "code",
      "execution_count": 155,
      "metadata": {
        "id": "_7jex-YaGjfD"
      },
      "outputs": [],
      "source": [
        "opt = torch.optim.Adam(model_custom.parameters(), lr=1e-2)\n",
        "scheduler = torch.optim.lr_scheduler.ExponentialLR(opt, gamma=0.5)"
      ]
    },
    {
      "cell_type": "code",
      "execution_count": 156,
      "metadata": {
        "colab": {
          "base_uri": "https://localhost:8080/"
        },
        "id": "P7POk9zomimF",
        "outputId": "5afaa3e3-8e5e-4505-f694-46b950b4cfaf"
      },
      "outputs": [
        {
          "output_type": "stream",
          "name": "stdout",
          "text": [
            "Epoch 1/5\n",
            "Step [50/469] | Time: 2.79s |  Loss: 2.2818\n",
            "Step [100/469] | Time: 5.89s |  Loss: 2.0963\n",
            "Step [150/469] | Time: 8.51s |  Loss: 1.3238\n",
            "Step [200/469] | Time: 11.17s |  Loss: 1.3018\n",
            "Step [250/469] | Time: 13.85s |  Loss: 0.9861\n",
            "Step [300/469] | Time: 17.01s |  Loss: 0.9199\n",
            "Step [350/469] | Time: 19.62s |  Loss: 0.9101\n",
            "Step [400/469] | Time: 22.20s |  Loss: 0.8839\n",
            "Step [450/469] | Time: 24.74s |  Loss: 0.9123\n",
            "---------------------------------------------\n",
            "Epoch 2/5\n",
            "Step [50/469] | Time: 3.11s |  Loss: 0.6950\n",
            "Step [100/469] | Time: 5.75s |  Loss: 0.8777\n",
            "Step [150/469] | Time: 8.33s |  Loss: 0.5696\n",
            "Step [200/469] | Time: 10.90s |  Loss: 0.7777\n",
            "Step [250/469] | Time: 13.89s |  Loss: 0.7479\n",
            "Step [300/469] | Time: 16.48s |  Loss: 0.7238\n",
            "Step [350/469] | Time: 19.11s |  Loss: 0.5385\n",
            "Step [400/469] | Time: 21.73s |  Loss: 0.6306\n",
            "Step [450/469] | Time: 24.66s |  Loss: 0.5891\n",
            "---------------------------------------------\n",
            "Epoch 3/5\n",
            "Step [50/469] | Time: 2.58s |  Loss: 0.5786\n",
            "Step [100/469] | Time: 5.14s |  Loss: 0.6649\n",
            "Step [150/469] | Time: 7.80s |  Loss: 0.5132\n",
            "Step [200/469] | Time: 10.89s |  Loss: 0.7009\n",
            "Step [250/469] | Time: 13.47s |  Loss: 0.4337\n",
            "Step [300/469] | Time: 16.10s |  Loss: 0.5765\n",
            "Step [350/469] | Time: 18.66s |  Loss: 0.5813\n",
            "Step [400/469] | Time: 21.64s |  Loss: 0.5100\n",
            "Step [450/469] | Time: 24.38s |  Loss: 0.6146\n",
            "---------------------------------------------\n",
            "Epoch 4/5\n",
            "Step [50/469] | Time: 2.59s |  Loss: 0.4511\n",
            "Step [100/469] | Time: 5.27s |  Loss: 0.6608\n",
            "Step [150/469] | Time: 8.35s |  Loss: 0.5734\n",
            "Step [200/469] | Time: 10.97s |  Loss: 0.5973\n",
            "Step [250/469] | Time: 13.63s |  Loss: 0.5089\n",
            "Step [300/469] | Time: 16.23s |  Loss: 0.4638\n",
            "Step [350/469] | Time: 19.21s |  Loss: 0.4060\n",
            "Step [400/469] | Time: 21.79s |  Loss: 0.5167\n",
            "Step [450/469] | Time: 24.41s |  Loss: 0.5714\n",
            "---------------------------------------------\n",
            "Epoch 5/5\n",
            "Step [50/469] | Time: 2.63s |  Loss: 0.5041\n",
            "Step [100/469] | Time: 5.62s |  Loss: 0.4533\n",
            "Step [150/469] | Time: 8.22s |  Loss: 0.5086\n",
            "Step [200/469] | Time: 10.83s |  Loss: 0.4660\n",
            "Step [250/469] | Time: 13.38s |  Loss: 0.5277\n",
            "Step [300/469] | Time: 17.08s |  Loss: 0.4761\n",
            "Step [350/469] | Time: 19.81s |  Loss: 0.5346\n",
            "Step [400/469] | Time: 22.48s |  Loss: 0.4637\n",
            "Step [450/469] | Time: 25.11s |  Loss: 0.5591\n",
            "---------------------------------------------\n"
          ]
        }
      ],
      "source": [
        "train_model(\n",
        "    data=train_dataloader,\n",
        "    model=model_custom,\n",
        "    loss_fn=nn.CrossEntropyLoss(),\n",
        "    optimizer=opt,\n",
        "    scheduler=scheduler,\n",
        "    scheduler_step=len(train_dataloader),\n",
        "    epochs=5,\n",
        "    show_step=50\n",
        ")"
      ]
    },
    {
      "cell_type": "code",
      "execution_count": 157,
      "metadata": {
        "colab": {
          "base_uri": "https://localhost:8080/",
          "height": 441
        },
        "id": "WoEMxWqCCYEa",
        "outputId": "f32338fc-c37f-459d-9b8b-b3acc1d5fc1f"
      },
      "outputs": [
        {
          "output_type": "stream",
          "name": "stderr",
          "text": [
            "Scoring data...: 100%|████████████████████████| 469/469 [00:15<00:00, 29.88it/s]\n"
          ]
        },
        {
          "output_type": "execute_result",
          "data": {
            "text/plain": [
              "              0         1         2         3         4         5         6  \\\n",
              "0      5.803318 -1.567142  3.070968  4.336853  2.030762 -3.475795  4.801703   \n",
              "1      0.364579  0.720487  1.270428  3.036809  5.828571 -2.662060  2.647776   \n",
              "2     -1.406604  1.066560  2.910615 -0.844043  4.776592  1.976580  4.485478   \n",
              "3      2.934760  6.338729  0.325168  7.543864  1.809910  1.948860  1.334736   \n",
              "4      3.371219  2.946008  1.329310  6.260067  4.177752 -3.186045  3.202302   \n",
              "...         ...       ...       ...       ...       ...       ...       ...   \n",
              "59995  0.465290  0.032582  7.850749  1.768174  7.662924 -1.242878  4.570780   \n",
              "59996  2.936366  0.653421  7.432131  3.533779  3.911480 -1.771870  5.267940   \n",
              "59997  2.051602  0.608047  4.673854  2.353831  4.021979 -3.040610  4.476631   \n",
              "59998 -0.128058  2.521989 -2.182268 -6.947182 -0.827635  9.401294 -4.146354   \n",
              "59999  3.695320  7.469036  1.261843  6.576736  1.709238 -1.150193  2.600828   \n",
              "\n",
              "               7         8         9  \n",
              "0      -6.079379 -0.508204 -6.972584  \n",
              "1      -8.385864  0.053953 -7.429590  \n",
              "2      -4.478778  0.753728  0.247825  \n",
              "3      -0.060774  0.559888 -0.193901  \n",
              "4      -5.144248 -0.437677 -5.481575  \n",
              "...          ...       ...       ...  \n",
              "59995  -6.689454 -0.327109 -1.097282  \n",
              "59996  -3.774720 -1.417225 -3.443783  \n",
              "59997  -5.247840  0.902285 -3.647785  \n",
              "59998  12.359016  4.964705  6.302346  \n",
              "59999  -2.992317  1.751929 -2.261457  \n",
              "\n",
              "[60000 rows x 10 columns]"
            ],
            "text/html": [
              "\n",
              "\n",
              "  <div id=\"df-7dd2c3eb-d2ad-4d66-a809-af8b8337ed20\">\n",
              "    <div class=\"colab-df-container\">\n",
              "      <div>\n",
              "<style scoped>\n",
              "    .dataframe tbody tr th:only-of-type {\n",
              "        vertical-align: middle;\n",
              "    }\n",
              "\n",
              "    .dataframe tbody tr th {\n",
              "        vertical-align: top;\n",
              "    }\n",
              "\n",
              "    .dataframe thead th {\n",
              "        text-align: right;\n",
              "    }\n",
              "</style>\n",
              "<table border=\"1\" class=\"dataframe\">\n",
              "  <thead>\n",
              "    <tr style=\"text-align: right;\">\n",
              "      <th></th>\n",
              "      <th>0</th>\n",
              "      <th>1</th>\n",
              "      <th>2</th>\n",
              "      <th>3</th>\n",
              "      <th>4</th>\n",
              "      <th>5</th>\n",
              "      <th>6</th>\n",
              "      <th>7</th>\n",
              "      <th>8</th>\n",
              "      <th>9</th>\n",
              "    </tr>\n",
              "  </thead>\n",
              "  <tbody>\n",
              "    <tr>\n",
              "      <th>0</th>\n",
              "      <td>5.803318</td>\n",
              "      <td>-1.567142</td>\n",
              "      <td>3.070968</td>\n",
              "      <td>4.336853</td>\n",
              "      <td>2.030762</td>\n",
              "      <td>-3.475795</td>\n",
              "      <td>4.801703</td>\n",
              "      <td>-6.079379</td>\n",
              "      <td>-0.508204</td>\n",
              "      <td>-6.972584</td>\n",
              "    </tr>\n",
              "    <tr>\n",
              "      <th>1</th>\n",
              "      <td>0.364579</td>\n",
              "      <td>0.720487</td>\n",
              "      <td>1.270428</td>\n",
              "      <td>3.036809</td>\n",
              "      <td>5.828571</td>\n",
              "      <td>-2.662060</td>\n",
              "      <td>2.647776</td>\n",
              "      <td>-8.385864</td>\n",
              "      <td>0.053953</td>\n",
              "      <td>-7.429590</td>\n",
              "    </tr>\n",
              "    <tr>\n",
              "      <th>2</th>\n",
              "      <td>-1.406604</td>\n",
              "      <td>1.066560</td>\n",
              "      <td>2.910615</td>\n",
              "      <td>-0.844043</td>\n",
              "      <td>4.776592</td>\n",
              "      <td>1.976580</td>\n",
              "      <td>4.485478</td>\n",
              "      <td>-4.478778</td>\n",
              "      <td>0.753728</td>\n",
              "      <td>0.247825</td>\n",
              "    </tr>\n",
              "    <tr>\n",
              "      <th>3</th>\n",
              "      <td>2.934760</td>\n",
              "      <td>6.338729</td>\n",
              "      <td>0.325168</td>\n",
              "      <td>7.543864</td>\n",
              "      <td>1.809910</td>\n",
              "      <td>1.948860</td>\n",
              "      <td>1.334736</td>\n",
              "      <td>-0.060774</td>\n",
              "      <td>0.559888</td>\n",
              "      <td>-0.193901</td>\n",
              "    </tr>\n",
              "    <tr>\n",
              "      <th>4</th>\n",
              "      <td>3.371219</td>\n",
              "      <td>2.946008</td>\n",
              "      <td>1.329310</td>\n",
              "      <td>6.260067</td>\n",
              "      <td>4.177752</td>\n",
              "      <td>-3.186045</td>\n",
              "      <td>3.202302</td>\n",
              "      <td>-5.144248</td>\n",
              "      <td>-0.437677</td>\n",
              "      <td>-5.481575</td>\n",
              "    </tr>\n",
              "    <tr>\n",
              "      <th>...</th>\n",
              "      <td>...</td>\n",
              "      <td>...</td>\n",
              "      <td>...</td>\n",
              "      <td>...</td>\n",
              "      <td>...</td>\n",
              "      <td>...</td>\n",
              "      <td>...</td>\n",
              "      <td>...</td>\n",
              "      <td>...</td>\n",
              "      <td>...</td>\n",
              "    </tr>\n",
              "    <tr>\n",
              "      <th>59995</th>\n",
              "      <td>0.465290</td>\n",
              "      <td>0.032582</td>\n",
              "      <td>7.850749</td>\n",
              "      <td>1.768174</td>\n",
              "      <td>7.662924</td>\n",
              "      <td>-1.242878</td>\n",
              "      <td>4.570780</td>\n",
              "      <td>-6.689454</td>\n",
              "      <td>-0.327109</td>\n",
              "      <td>-1.097282</td>\n",
              "    </tr>\n",
              "    <tr>\n",
              "      <th>59996</th>\n",
              "      <td>2.936366</td>\n",
              "      <td>0.653421</td>\n",
              "      <td>7.432131</td>\n",
              "      <td>3.533779</td>\n",
              "      <td>3.911480</td>\n",
              "      <td>-1.771870</td>\n",
              "      <td>5.267940</td>\n",
              "      <td>-3.774720</td>\n",
              "      <td>-1.417225</td>\n",
              "      <td>-3.443783</td>\n",
              "    </tr>\n",
              "    <tr>\n",
              "      <th>59997</th>\n",
              "      <td>2.051602</td>\n",
              "      <td>0.608047</td>\n",
              "      <td>4.673854</td>\n",
              "      <td>2.353831</td>\n",
              "      <td>4.021979</td>\n",
              "      <td>-3.040610</td>\n",
              "      <td>4.476631</td>\n",
              "      <td>-5.247840</td>\n",
              "      <td>0.902285</td>\n",
              "      <td>-3.647785</td>\n",
              "    </tr>\n",
              "    <tr>\n",
              "      <th>59998</th>\n",
              "      <td>-0.128058</td>\n",
              "      <td>2.521989</td>\n",
              "      <td>-2.182268</td>\n",
              "      <td>-6.947182</td>\n",
              "      <td>-0.827635</td>\n",
              "      <td>9.401294</td>\n",
              "      <td>-4.146354</td>\n",
              "      <td>12.359016</td>\n",
              "      <td>4.964705</td>\n",
              "      <td>6.302346</td>\n",
              "    </tr>\n",
              "    <tr>\n",
              "      <th>59999</th>\n",
              "      <td>3.695320</td>\n",
              "      <td>7.469036</td>\n",
              "      <td>1.261843</td>\n",
              "      <td>6.576736</td>\n",
              "      <td>1.709238</td>\n",
              "      <td>-1.150193</td>\n",
              "      <td>2.600828</td>\n",
              "      <td>-2.992317</td>\n",
              "      <td>1.751929</td>\n",
              "      <td>-2.261457</td>\n",
              "    </tr>\n",
              "  </tbody>\n",
              "</table>\n",
              "<p>60000 rows × 10 columns</p>\n",
              "</div>\n",
              "      <button class=\"colab-df-convert\" onclick=\"convertToInteractive('df-7dd2c3eb-d2ad-4d66-a809-af8b8337ed20')\"\n",
              "              title=\"Convert this dataframe to an interactive table.\"\n",
              "              style=\"display:none;\">\n",
              "\n",
              "  <svg xmlns=\"http://www.w3.org/2000/svg\" height=\"24px\"viewBox=\"0 0 24 24\"\n",
              "       width=\"24px\">\n",
              "    <path d=\"M0 0h24v24H0V0z\" fill=\"none\"/>\n",
              "    <path d=\"M18.56 5.44l.94 2.06.94-2.06 2.06-.94-2.06-.94-.94-2.06-.94 2.06-2.06.94zm-11 1L8.5 8.5l.94-2.06 2.06-.94-2.06-.94L8.5 2.5l-.94 2.06-2.06.94zm10 10l.94 2.06.94-2.06 2.06-.94-2.06-.94-.94-2.06-.94 2.06-2.06.94z\"/><path d=\"M17.41 7.96l-1.37-1.37c-.4-.4-.92-.59-1.43-.59-.52 0-1.04.2-1.43.59L10.3 9.45l-7.72 7.72c-.78.78-.78 2.05 0 2.83L4 21.41c.39.39.9.59 1.41.59.51 0 1.02-.2 1.41-.59l7.78-7.78 2.81-2.81c.8-.78.8-2.07 0-2.86zM5.41 20L4 18.59l7.72-7.72 1.47 1.35L5.41 20z\"/>\n",
              "  </svg>\n",
              "      </button>\n",
              "\n",
              "\n",
              "\n",
              "    <div id=\"df-0b6d33cb-3511-4e4c-833b-7fbef2562e1a\">\n",
              "      <button class=\"colab-df-quickchart\" onclick=\"quickchart('df-0b6d33cb-3511-4e4c-833b-7fbef2562e1a')\"\n",
              "              title=\"Suggest charts.\"\n",
              "              style=\"display:none;\">\n",
              "\n",
              "<svg xmlns=\"http://www.w3.org/2000/svg\" height=\"24px\"viewBox=\"0 0 24 24\"\n",
              "     width=\"24px\">\n",
              "    <g>\n",
              "        <path d=\"M19 3H5c-1.1 0-2 .9-2 2v14c0 1.1.9 2 2 2h14c1.1 0 2-.9 2-2V5c0-1.1-.9-2-2-2zM9 17H7v-7h2v7zm4 0h-2V7h2v10zm4 0h-2v-4h2v4z\"/>\n",
              "    </g>\n",
              "</svg>\n",
              "      </button>\n",
              "    </div>\n",
              "\n",
              "<style>\n",
              "  .colab-df-quickchart {\n",
              "    background-color: #E8F0FE;\n",
              "    border: none;\n",
              "    border-radius: 50%;\n",
              "    cursor: pointer;\n",
              "    display: none;\n",
              "    fill: #1967D2;\n",
              "    height: 32px;\n",
              "    padding: 0 0 0 0;\n",
              "    width: 32px;\n",
              "  }\n",
              "\n",
              "  .colab-df-quickchart:hover {\n",
              "    background-color: #E2EBFA;\n",
              "    box-shadow: 0px 1px 2px rgba(60, 64, 67, 0.3), 0px 1px 3px 1px rgba(60, 64, 67, 0.15);\n",
              "    fill: #174EA6;\n",
              "  }\n",
              "\n",
              "  [theme=dark] .colab-df-quickchart {\n",
              "    background-color: #3B4455;\n",
              "    fill: #D2E3FC;\n",
              "  }\n",
              "\n",
              "  [theme=dark] .colab-df-quickchart:hover {\n",
              "    background-color: #434B5C;\n",
              "    box-shadow: 0px 1px 3px 1px rgba(0, 0, 0, 0.15);\n",
              "    filter: drop-shadow(0px 1px 2px rgba(0, 0, 0, 0.3));\n",
              "    fill: #FFFFFF;\n",
              "  }\n",
              "</style>\n",
              "\n",
              "    <script>\n",
              "      async function quickchart(key) {\n",
              "        const containerElement = document.querySelector('#' + key);\n",
              "        const charts = await google.colab.kernel.invokeFunction(\n",
              "            'suggestCharts', [key], {});\n",
              "      }\n",
              "    </script>\n",
              "\n",
              "      <script>\n",
              "\n",
              "function displayQuickchartButton(domScope) {\n",
              "  let quickchartButtonEl =\n",
              "    domScope.querySelector('#df-0b6d33cb-3511-4e4c-833b-7fbef2562e1a button.colab-df-quickchart');\n",
              "  quickchartButtonEl.style.display =\n",
              "    google.colab.kernel.accessAllowed ? 'block' : 'none';\n",
              "}\n",
              "\n",
              "        displayQuickchartButton(document);\n",
              "      </script>\n",
              "      <style>\n",
              "    .colab-df-container {\n",
              "      display:flex;\n",
              "      flex-wrap:wrap;\n",
              "      gap: 12px;\n",
              "    }\n",
              "\n",
              "    .colab-df-convert {\n",
              "      background-color: #E8F0FE;\n",
              "      border: none;\n",
              "      border-radius: 50%;\n",
              "      cursor: pointer;\n",
              "      display: none;\n",
              "      fill: #1967D2;\n",
              "      height: 32px;\n",
              "      padding: 0 0 0 0;\n",
              "      width: 32px;\n",
              "    }\n",
              "\n",
              "    .colab-df-convert:hover {\n",
              "      background-color: #E2EBFA;\n",
              "      box-shadow: 0px 1px 2px rgba(60, 64, 67, 0.3), 0px 1px 3px 1px rgba(60, 64, 67, 0.15);\n",
              "      fill: #174EA6;\n",
              "    }\n",
              "\n",
              "    [theme=dark] .colab-df-convert {\n",
              "      background-color: #3B4455;\n",
              "      fill: #D2E3FC;\n",
              "    }\n",
              "\n",
              "    [theme=dark] .colab-df-convert:hover {\n",
              "      background-color: #434B5C;\n",
              "      box-shadow: 0px 1px 3px 1px rgba(0, 0, 0, 0.15);\n",
              "      filter: drop-shadow(0px 1px 2px rgba(0, 0, 0, 0.3));\n",
              "      fill: #FFFFFF;\n",
              "    }\n",
              "  </style>\n",
              "\n",
              "      <script>\n",
              "        const buttonEl =\n",
              "          document.querySelector('#df-7dd2c3eb-d2ad-4d66-a809-af8b8337ed20 button.colab-df-convert');\n",
              "        buttonEl.style.display =\n",
              "          google.colab.kernel.accessAllowed ? 'block' : 'none';\n",
              "\n",
              "        async function convertToInteractive(key) {\n",
              "          const element = document.querySelector('#df-7dd2c3eb-d2ad-4d66-a809-af8b8337ed20');\n",
              "          const dataTable =\n",
              "            await google.colab.kernel.invokeFunction('convertToInteractive',\n",
              "                                                     [key], {});\n",
              "          if (!dataTable) return;\n",
              "\n",
              "          const docLinkHtml = 'Like what you see? Visit the ' +\n",
              "            '<a target=\"_blank\" href=https://colab.research.google.com/notebooks/data_table.ipynb>data table notebook</a>'\n",
              "            + ' to learn more about interactive tables.';\n",
              "          element.innerHTML = '';\n",
              "          dataTable['output_type'] = 'display_data';\n",
              "          await google.colab.output.renderOutput(dataTable, element);\n",
              "          const docLink = document.createElement('div');\n",
              "          docLink.innerHTML = docLinkHtml;\n",
              "          element.appendChild(docLink);\n",
              "        }\n",
              "      </script>\n",
              "    </div>\n",
              "  </div>\n"
            ]
          },
          "metadata": {},
          "execution_count": 157
        }
      ],
      "source": [
        "train_scores, true_labels = scoring(train_dataloader, model_custom)\n",
        "train_scores"
      ]
    },
    {
      "cell_type": "code",
      "source": [
        "test_scores, true_labels_test = scoring(test_dataloader, model_custom)\n",
        "test_scores"
      ],
      "metadata": {
        "colab": {
          "base_uri": "https://localhost:8080/",
          "height": 441
        },
        "id": "ZKvOO1KmJNP4",
        "outputId": "fafb7855-e5ab-4322-b728-651150180745"
      },
      "execution_count": 158,
      "outputs": [
        {
          "output_type": "stream",
          "name": "stderr",
          "text": [
            "Scoring data...: 100%|██████████████████████████| 79/79 [00:02<00:00, 31.12it/s]\n"
          ]
        },
        {
          "output_type": "execute_result",
          "data": {
            "text/plain": [
              "             0          1         2         3         4         5         6  \\\n",
              "0    -1.594772   3.887347 -2.140662 -2.211907  2.498708  8.184733 -6.730761   \n",
              "1     3.846262   1.568949  9.511999  3.031597  5.907529 -2.025562  6.698056   \n",
              "2     1.745808  10.850077  1.119097 -0.027323 -0.008153 -5.072433  4.064703   \n",
              "3     2.233666  11.892824  0.149450  2.282109 -0.976678 -2.724659  0.966577   \n",
              "4     3.827088   1.595096  2.789279  1.156692  0.719998 -3.325521  4.293729   \n",
              "...        ...        ...       ...       ...       ...       ...       ...   \n",
              "9995 -2.694948   3.549805 -1.863970 -1.171210  3.454316  8.030925 -6.967648   \n",
              "9996  3.436088   8.222753  0.873923  5.320795  1.882956 -3.881943  2.645056   \n",
              "9997  3.811536   0.474776  2.023993  3.957579  0.650232  0.151344  2.095915   \n",
              "9998  1.668050  10.629993  0.415352  4.171874  2.211342 -5.550063  2.518819   \n",
              "9999 -1.180305   0.257919 -1.358383 -4.854858 -0.745672  7.572701 -0.268557   \n",
              "\n",
              "              7         8          9  \n",
              "0     11.532011  5.285590  12.237614  \n",
              "1     -3.973757 -0.900068  -1.155058  \n",
              "2     -3.254372  1.758897  -4.986663  \n",
              "3      0.840499  1.083354  -1.054766  \n",
              "4     -2.894303 -1.420517  -7.519163  \n",
              "...         ...       ...        ...  \n",
              "9995   9.257099  5.156468  13.476953  \n",
              "9996  -3.156965  1.414082  -4.616650  \n",
              "9997  -3.043855  6.013007  -5.172879  \n",
              "9998  -2.405835  1.333990  -4.337975  \n",
              "9999   5.055300  3.783128   0.781649  \n",
              "\n",
              "[10000 rows x 10 columns]"
            ],
            "text/html": [
              "\n",
              "\n",
              "  <div id=\"df-b51571c6-a31c-4f3a-935c-52891557f92b\">\n",
              "    <div class=\"colab-df-container\">\n",
              "      <div>\n",
              "<style scoped>\n",
              "    .dataframe tbody tr th:only-of-type {\n",
              "        vertical-align: middle;\n",
              "    }\n",
              "\n",
              "    .dataframe tbody tr th {\n",
              "        vertical-align: top;\n",
              "    }\n",
              "\n",
              "    .dataframe thead th {\n",
              "        text-align: right;\n",
              "    }\n",
              "</style>\n",
              "<table border=\"1\" class=\"dataframe\">\n",
              "  <thead>\n",
              "    <tr style=\"text-align: right;\">\n",
              "      <th></th>\n",
              "      <th>0</th>\n",
              "      <th>1</th>\n",
              "      <th>2</th>\n",
              "      <th>3</th>\n",
              "      <th>4</th>\n",
              "      <th>5</th>\n",
              "      <th>6</th>\n",
              "      <th>7</th>\n",
              "      <th>8</th>\n",
              "      <th>9</th>\n",
              "    </tr>\n",
              "  </thead>\n",
              "  <tbody>\n",
              "    <tr>\n",
              "      <th>0</th>\n",
              "      <td>-1.594772</td>\n",
              "      <td>3.887347</td>\n",
              "      <td>-2.140662</td>\n",
              "      <td>-2.211907</td>\n",
              "      <td>2.498708</td>\n",
              "      <td>8.184733</td>\n",
              "      <td>-6.730761</td>\n",
              "      <td>11.532011</td>\n",
              "      <td>5.285590</td>\n",
              "      <td>12.237614</td>\n",
              "    </tr>\n",
              "    <tr>\n",
              "      <th>1</th>\n",
              "      <td>3.846262</td>\n",
              "      <td>1.568949</td>\n",
              "      <td>9.511999</td>\n",
              "      <td>3.031597</td>\n",
              "      <td>5.907529</td>\n",
              "      <td>-2.025562</td>\n",
              "      <td>6.698056</td>\n",
              "      <td>-3.973757</td>\n",
              "      <td>-0.900068</td>\n",
              "      <td>-1.155058</td>\n",
              "    </tr>\n",
              "    <tr>\n",
              "      <th>2</th>\n",
              "      <td>1.745808</td>\n",
              "      <td>10.850077</td>\n",
              "      <td>1.119097</td>\n",
              "      <td>-0.027323</td>\n",
              "      <td>-0.008153</td>\n",
              "      <td>-5.072433</td>\n",
              "      <td>4.064703</td>\n",
              "      <td>-3.254372</td>\n",
              "      <td>1.758897</td>\n",
              "      <td>-4.986663</td>\n",
              "    </tr>\n",
              "    <tr>\n",
              "      <th>3</th>\n",
              "      <td>2.233666</td>\n",
              "      <td>11.892824</td>\n",
              "      <td>0.149450</td>\n",
              "      <td>2.282109</td>\n",
              "      <td>-0.976678</td>\n",
              "      <td>-2.724659</td>\n",
              "      <td>0.966577</td>\n",
              "      <td>0.840499</td>\n",
              "      <td>1.083354</td>\n",
              "      <td>-1.054766</td>\n",
              "    </tr>\n",
              "    <tr>\n",
              "      <th>4</th>\n",
              "      <td>3.827088</td>\n",
              "      <td>1.595096</td>\n",
              "      <td>2.789279</td>\n",
              "      <td>1.156692</td>\n",
              "      <td>0.719998</td>\n",
              "      <td>-3.325521</td>\n",
              "      <td>4.293729</td>\n",
              "      <td>-2.894303</td>\n",
              "      <td>-1.420517</td>\n",
              "      <td>-7.519163</td>\n",
              "    </tr>\n",
              "    <tr>\n",
              "      <th>...</th>\n",
              "      <td>...</td>\n",
              "      <td>...</td>\n",
              "      <td>...</td>\n",
              "      <td>...</td>\n",
              "      <td>...</td>\n",
              "      <td>...</td>\n",
              "      <td>...</td>\n",
              "      <td>...</td>\n",
              "      <td>...</td>\n",
              "      <td>...</td>\n",
              "    </tr>\n",
              "    <tr>\n",
              "      <th>9995</th>\n",
              "      <td>-2.694948</td>\n",
              "      <td>3.549805</td>\n",
              "      <td>-1.863970</td>\n",
              "      <td>-1.171210</td>\n",
              "      <td>3.454316</td>\n",
              "      <td>8.030925</td>\n",
              "      <td>-6.967648</td>\n",
              "      <td>9.257099</td>\n",
              "      <td>5.156468</td>\n",
              "      <td>13.476953</td>\n",
              "    </tr>\n",
              "    <tr>\n",
              "      <th>9996</th>\n",
              "      <td>3.436088</td>\n",
              "      <td>8.222753</td>\n",
              "      <td>0.873923</td>\n",
              "      <td>5.320795</td>\n",
              "      <td>1.882956</td>\n",
              "      <td>-3.881943</td>\n",
              "      <td>2.645056</td>\n",
              "      <td>-3.156965</td>\n",
              "      <td>1.414082</td>\n",
              "      <td>-4.616650</td>\n",
              "    </tr>\n",
              "    <tr>\n",
              "      <th>9997</th>\n",
              "      <td>3.811536</td>\n",
              "      <td>0.474776</td>\n",
              "      <td>2.023993</td>\n",
              "      <td>3.957579</td>\n",
              "      <td>0.650232</td>\n",
              "      <td>0.151344</td>\n",
              "      <td>2.095915</td>\n",
              "      <td>-3.043855</td>\n",
              "      <td>6.013007</td>\n",
              "      <td>-5.172879</td>\n",
              "    </tr>\n",
              "    <tr>\n",
              "      <th>9998</th>\n",
              "      <td>1.668050</td>\n",
              "      <td>10.629993</td>\n",
              "      <td>0.415352</td>\n",
              "      <td>4.171874</td>\n",
              "      <td>2.211342</td>\n",
              "      <td>-5.550063</td>\n",
              "      <td>2.518819</td>\n",
              "      <td>-2.405835</td>\n",
              "      <td>1.333990</td>\n",
              "      <td>-4.337975</td>\n",
              "    </tr>\n",
              "    <tr>\n",
              "      <th>9999</th>\n",
              "      <td>-1.180305</td>\n",
              "      <td>0.257919</td>\n",
              "      <td>-1.358383</td>\n",
              "      <td>-4.854858</td>\n",
              "      <td>-0.745672</td>\n",
              "      <td>7.572701</td>\n",
              "      <td>-0.268557</td>\n",
              "      <td>5.055300</td>\n",
              "      <td>3.783128</td>\n",
              "      <td>0.781649</td>\n",
              "    </tr>\n",
              "  </tbody>\n",
              "</table>\n",
              "<p>10000 rows × 10 columns</p>\n",
              "</div>\n",
              "      <button class=\"colab-df-convert\" onclick=\"convertToInteractive('df-b51571c6-a31c-4f3a-935c-52891557f92b')\"\n",
              "              title=\"Convert this dataframe to an interactive table.\"\n",
              "              style=\"display:none;\">\n",
              "\n",
              "  <svg xmlns=\"http://www.w3.org/2000/svg\" height=\"24px\"viewBox=\"0 0 24 24\"\n",
              "       width=\"24px\">\n",
              "    <path d=\"M0 0h24v24H0V0z\" fill=\"none\"/>\n",
              "    <path d=\"M18.56 5.44l.94 2.06.94-2.06 2.06-.94-2.06-.94-.94-2.06-.94 2.06-2.06.94zm-11 1L8.5 8.5l.94-2.06 2.06-.94-2.06-.94L8.5 2.5l-.94 2.06-2.06.94zm10 10l.94 2.06.94-2.06 2.06-.94-2.06-.94-.94-2.06-.94 2.06-2.06.94z\"/><path d=\"M17.41 7.96l-1.37-1.37c-.4-.4-.92-.59-1.43-.59-.52 0-1.04.2-1.43.59L10.3 9.45l-7.72 7.72c-.78.78-.78 2.05 0 2.83L4 21.41c.39.39.9.59 1.41.59.51 0 1.02-.2 1.41-.59l7.78-7.78 2.81-2.81c.8-.78.8-2.07 0-2.86zM5.41 20L4 18.59l7.72-7.72 1.47 1.35L5.41 20z\"/>\n",
              "  </svg>\n",
              "      </button>\n",
              "\n",
              "\n",
              "\n",
              "    <div id=\"df-bfd323b0-d0aa-4663-a639-4ee0ad124ed0\">\n",
              "      <button class=\"colab-df-quickchart\" onclick=\"quickchart('df-bfd323b0-d0aa-4663-a639-4ee0ad124ed0')\"\n",
              "              title=\"Suggest charts.\"\n",
              "              style=\"display:none;\">\n",
              "\n",
              "<svg xmlns=\"http://www.w3.org/2000/svg\" height=\"24px\"viewBox=\"0 0 24 24\"\n",
              "     width=\"24px\">\n",
              "    <g>\n",
              "        <path d=\"M19 3H5c-1.1 0-2 .9-2 2v14c0 1.1.9 2 2 2h14c1.1 0 2-.9 2-2V5c0-1.1-.9-2-2-2zM9 17H7v-7h2v7zm4 0h-2V7h2v10zm4 0h-2v-4h2v4z\"/>\n",
              "    </g>\n",
              "</svg>\n",
              "      </button>\n",
              "    </div>\n",
              "\n",
              "<style>\n",
              "  .colab-df-quickchart {\n",
              "    background-color: #E8F0FE;\n",
              "    border: none;\n",
              "    border-radius: 50%;\n",
              "    cursor: pointer;\n",
              "    display: none;\n",
              "    fill: #1967D2;\n",
              "    height: 32px;\n",
              "    padding: 0 0 0 0;\n",
              "    width: 32px;\n",
              "  }\n",
              "\n",
              "  .colab-df-quickchart:hover {\n",
              "    background-color: #E2EBFA;\n",
              "    box-shadow: 0px 1px 2px rgba(60, 64, 67, 0.3), 0px 1px 3px 1px rgba(60, 64, 67, 0.15);\n",
              "    fill: #174EA6;\n",
              "  }\n",
              "\n",
              "  [theme=dark] .colab-df-quickchart {\n",
              "    background-color: #3B4455;\n",
              "    fill: #D2E3FC;\n",
              "  }\n",
              "\n",
              "  [theme=dark] .colab-df-quickchart:hover {\n",
              "    background-color: #434B5C;\n",
              "    box-shadow: 0px 1px 3px 1px rgba(0, 0, 0, 0.15);\n",
              "    filter: drop-shadow(0px 1px 2px rgba(0, 0, 0, 0.3));\n",
              "    fill: #FFFFFF;\n",
              "  }\n",
              "</style>\n",
              "\n",
              "    <script>\n",
              "      async function quickchart(key) {\n",
              "        const containerElement = document.querySelector('#' + key);\n",
              "        const charts = await google.colab.kernel.invokeFunction(\n",
              "            'suggestCharts', [key], {});\n",
              "      }\n",
              "    </script>\n",
              "\n",
              "      <script>\n",
              "\n",
              "function displayQuickchartButton(domScope) {\n",
              "  let quickchartButtonEl =\n",
              "    domScope.querySelector('#df-bfd323b0-d0aa-4663-a639-4ee0ad124ed0 button.colab-df-quickchart');\n",
              "  quickchartButtonEl.style.display =\n",
              "    google.colab.kernel.accessAllowed ? 'block' : 'none';\n",
              "}\n",
              "\n",
              "        displayQuickchartButton(document);\n",
              "      </script>\n",
              "      <style>\n",
              "    .colab-df-container {\n",
              "      display:flex;\n",
              "      flex-wrap:wrap;\n",
              "      gap: 12px;\n",
              "    }\n",
              "\n",
              "    .colab-df-convert {\n",
              "      background-color: #E8F0FE;\n",
              "      border: none;\n",
              "      border-radius: 50%;\n",
              "      cursor: pointer;\n",
              "      display: none;\n",
              "      fill: #1967D2;\n",
              "      height: 32px;\n",
              "      padding: 0 0 0 0;\n",
              "      width: 32px;\n",
              "    }\n",
              "\n",
              "    .colab-df-convert:hover {\n",
              "      background-color: #E2EBFA;\n",
              "      box-shadow: 0px 1px 2px rgba(60, 64, 67, 0.3), 0px 1px 3px 1px rgba(60, 64, 67, 0.15);\n",
              "      fill: #174EA6;\n",
              "    }\n",
              "\n",
              "    [theme=dark] .colab-df-convert {\n",
              "      background-color: #3B4455;\n",
              "      fill: #D2E3FC;\n",
              "    }\n",
              "\n",
              "    [theme=dark] .colab-df-convert:hover {\n",
              "      background-color: #434B5C;\n",
              "      box-shadow: 0px 1px 3px 1px rgba(0, 0, 0, 0.15);\n",
              "      filter: drop-shadow(0px 1px 2px rgba(0, 0, 0, 0.3));\n",
              "      fill: #FFFFFF;\n",
              "    }\n",
              "  </style>\n",
              "\n",
              "      <script>\n",
              "        const buttonEl =\n",
              "          document.querySelector('#df-b51571c6-a31c-4f3a-935c-52891557f92b button.colab-df-convert');\n",
              "        buttonEl.style.display =\n",
              "          google.colab.kernel.accessAllowed ? 'block' : 'none';\n",
              "\n",
              "        async function convertToInteractive(key) {\n",
              "          const element = document.querySelector('#df-b51571c6-a31c-4f3a-935c-52891557f92b');\n",
              "          const dataTable =\n",
              "            await google.colab.kernel.invokeFunction('convertToInteractive',\n",
              "                                                     [key], {});\n",
              "          if (!dataTable) return;\n",
              "\n",
              "          const docLinkHtml = 'Like what you see? Visit the ' +\n",
              "            '<a target=\"_blank\" href=https://colab.research.google.com/notebooks/data_table.ipynb>data table notebook</a>'\n",
              "            + ' to learn more about interactive tables.';\n",
              "          element.innerHTML = '';\n",
              "          dataTable['output_type'] = 'display_data';\n",
              "          await google.colab.output.renderOutput(dataTable, element);\n",
              "          const docLink = document.createElement('div');\n",
              "          docLink.innerHTML = docLinkHtml;\n",
              "          element.appendChild(docLink);\n",
              "        }\n",
              "      </script>\n",
              "    </div>\n",
              "  </div>\n"
            ]
          },
          "metadata": {},
          "execution_count": 158
        }
      ]
    },
    {
      "cell_type": "code",
      "execution_count": 159,
      "metadata": {
        "id": "o5AB3JI4hi6i",
        "colab": {
          "base_uri": "https://localhost:8080/"
        },
        "outputId": "e3d33541-ec03-459c-aaad-28db03c80e49"
      },
      "outputs": [
        {
          "output_type": "stream",
          "name": "stdout",
          "text": [
            "Compute accuracy... \n",
            "Accuracy on train: 0.8100 \n",
            "\n",
            "Compute accuracy... \n",
            "Accuracy on test: 0.8040\n"
          ]
        }
      ],
      "source": [
        "print('Accuracy on train: %.4f \\n' % accuracy(train_scores, true_labels))\n",
        "print('Accuracy on test: %.4f' % accuracy(test_scores, true_labels_test))"
      ]
    },
    {
      "cell_type": "markdown",
      "metadata": {
        "id": "BIYc9EZRFtW7"
      },
      "source": [
        "## Torch RNN"
      ]
    },
    {
      "cell_type": "code",
      "execution_count": 129,
      "metadata": {
        "id": "4z8pYGUrCYHA"
      },
      "outputs": [],
      "source": [
        "class RNNTorch(nn.Module):\n",
        "    __constants__ = ['input_size', 'hidden_size', 'output_size', 'num_layers', 'bias', 'batch_first', 'nonlinearity']\n",
        "\n",
        "    def __init__(self, input_size: int, hidden_size: int, output_size: int, num_layers: int = 1, batch_first: bool = False,\n",
        "                 bias: bool = True, nonlinearity: str = 'tanh', attention: bool = False, device: str = 'cpu'):\n",
        "        super(RNNTorch, self).__init__()\n",
        "\n",
        "        cond_factory = {'nonlinearity': nonlinearity, 'bias': bias}\n",
        "        self.batch_first = batch_first\n",
        "\n",
        "        self.att = attention\n",
        "        if self.att: self.att_layer = SimpleAttention1d(input_size=input_size).to(device)\n",
        "\n",
        "        self.rnn = nn.RNN(input_size=input_size, hidden_size=hidden_size, num_layers=num_layers, batch_first=batch_first, **cond_factory).to(device)\n",
        "\n",
        "        self.hidden_to_output = nn.Linear(in_features=hidden_size, out_features=output_size, bias=bias).to(device)\n",
        "\n",
        "    def forward(self, inputs: torch.Tensor) -> torch.Tensor:\n",
        "        inputs = inputs.to(device)\n",
        "\n",
        "        if self.att: inputs = self.att_layer(inputs)\n",
        "\n",
        "        self.memory_cell, states = self.rnn(inputs)\n",
        "\n",
        "        self.memory_cell = self.hidden_to_output(self.memory_cell[:, -1, :] if self.batch_first else self.memory_cell[-1, :, :])\n",
        "        return self.memory_cell, states"
      ]
    },
    {
      "cell_type": "code",
      "execution_count": 140,
      "metadata": {
        "colab": {
          "base_uri": "https://localhost:8080/"
        },
        "id": "_4wuFz77Ef6e",
        "outputId": "f7bc794c-573c-43fd-e939-45bdf1410ad6"
      },
      "outputs": [
        {
          "output_type": "execute_result",
          "data": {
            "text/plain": [
              "RNNTorch(\n",
              "  (rnn): RNN(28, 64, num_layers=2, batch_first=True)\n",
              "  (hidden_to_output): Linear(in_features=64, out_features=10, bias=True)\n",
              ")"
            ]
          },
          "metadata": {},
          "execution_count": 140
        }
      ],
      "source": [
        "model_rnn_torch = RNNTorch(input_size=input_size, hidden_size=hidden_size, output_size=num_classes,\n",
        "                           batch_first=True, num_layers=2, nonlinearity='relu', attention=False).to(device)\n",
        "model_rnn_torch"
      ]
    },
    {
      "cell_type": "code",
      "execution_count": 141,
      "metadata": {
        "colab": {
          "base_uri": "https://localhost:8080/"
        },
        "id": "YN8o2z40Ef9M",
        "outputId": "cac926fc-b526-4c82-aee5-fdafa48a0260"
      },
      "outputs": [
        {
          "output_type": "execute_result",
          "data": {
            "text/plain": [
              "==========================================================================================\n",
              "Layer (type:depth-idx)                   Output Shape              Param #\n",
              "==========================================================================================\n",
              "RNNTorch                                 [128, 10]                 --\n",
              "├─RNN: 1-1                               [128, 28, 64]             14,336\n",
              "├─Linear: 1-2                            [128, 10]                 650\n",
              "==========================================================================================\n",
              "Total params: 14,986\n",
              "Trainable params: 14,986\n",
              "Non-trainable params: 0\n",
              "Total mult-adds (M): 51.46\n",
              "==========================================================================================\n",
              "Input size (MB): 0.40\n",
              "Forward/backward pass size (MB): 1.85\n",
              "Params size (MB): 0.06\n",
              "Estimated Total Size (MB): 2.31\n",
              "=========================================================================================="
            ]
          },
          "metadata": {},
          "execution_count": 141
        }
      ],
      "source": [
        "summary(model_rnn_torch, input_size=input.shape)"
      ]
    },
    {
      "cell_type": "code",
      "source": [
        "opt = torch.optim.Adam(model_rnn_torch.parameters(), lr=1e-2)\n",
        "scheduler = torch.optim.lr_scheduler.ExponentialLR(opt, gamma=0.5)"
      ],
      "metadata": {
        "id": "yGKygKC4Obsu"
      },
      "execution_count": 142,
      "outputs": []
    },
    {
      "cell_type": "code",
      "execution_count": 143,
      "metadata": {
        "colab": {
          "base_uri": "https://localhost:8080/"
        },
        "id": "JvjehrJHCYJM",
        "outputId": "e8c9b3bb-3353-40cc-da5b-d60d521eba73"
      },
      "outputs": [
        {
          "output_type": "stream",
          "name": "stdout",
          "text": [
            "Epoch 1/5\n",
            "Step [50/469] | Time: 0.96s |  Loss: 1.2703\n",
            "Step [100/469] | Time: 1.93s |  Loss: 1.0635\n",
            "Step [150/469] | Time: 2.84s |  Loss: 1.1956\n",
            "Step [200/469] | Time: 3.75s |  Loss: 0.8917\n",
            "Step [250/469] | Time: 4.62s |  Loss: 0.8622\n",
            "Step [300/469] | Time: 5.53s |  Loss: 0.8047\n",
            "Step [350/469] | Time: 6.48s |  Loss: 0.7693\n",
            "Step [400/469] | Time: 7.43s |  Loss: 0.7961\n",
            "Step [450/469] | Time: 8.32s |  Loss: 0.8741\n",
            "---------------------------------------------\n",
            "Epoch 2/5\n",
            "Step [50/469] | Time: 1.14s |  Loss: 0.5570\n",
            "Step [100/469] | Time: 2.32s |  Loss: 0.4805\n",
            "Step [150/469] | Time: 3.24s |  Loss: 0.5035\n",
            "Step [200/469] | Time: 4.17s |  Loss: 0.6528\n",
            "Step [250/469] | Time: 5.09s |  Loss: 0.5765\n",
            "Step [300/469] | Time: 6.01s |  Loss: 0.5498\n",
            "Step [350/469] | Time: 6.95s |  Loss: 0.5891\n",
            "Step [400/469] | Time: 7.90s |  Loss: 0.4326\n",
            "Step [450/469] | Time: 8.82s |  Loss: 0.3898\n",
            "---------------------------------------------\n",
            "Epoch 3/5\n",
            "Step [50/469] | Time: 0.92s |  Loss: 0.4649\n",
            "Step [100/469] | Time: 1.85s |  Loss: 0.4583\n",
            "Step [150/469] | Time: 2.89s |  Loss: 0.4909\n",
            "Step [200/469] | Time: 4.34s |  Loss: 0.3486\n",
            "Step [250/469] | Time: 5.25s |  Loss: 0.4415\n",
            "Step [300/469] | Time: 6.15s |  Loss: 0.3717\n",
            "Step [350/469] | Time: 7.06s |  Loss: 0.5695\n",
            "Step [400/469] | Time: 8.00s |  Loss: 0.4401\n",
            "Step [450/469] | Time: 9.03s |  Loss: 0.4272\n",
            "---------------------------------------------\n",
            "Epoch 4/5\n",
            "Step [50/469] | Time: 0.90s |  Loss: 0.5626\n",
            "Step [100/469] | Time: 1.80s |  Loss: 0.5020\n",
            "Step [150/469] | Time: 2.68s |  Loss: 0.2997\n",
            "Step [200/469] | Time: 3.57s |  Loss: 0.3026\n",
            "Step [250/469] | Time: 4.49s |  Loss: 0.5653\n",
            "Step [300/469] | Time: 5.75s |  Loss: 0.4042\n",
            "Step [350/469] | Time: 6.80s |  Loss: 0.4285\n",
            "Step [400/469] | Time: 7.71s |  Loss: 0.6353\n",
            "Step [450/469] | Time: 8.63s |  Loss: 0.3492\n",
            "---------------------------------------------\n",
            "Epoch 5/5\n",
            "Step [50/469] | Time: 0.90s |  Loss: 0.3006\n",
            "Step [100/469] | Time: 1.79s |  Loss: 0.3450\n",
            "Step [150/469] | Time: 2.69s |  Loss: 0.4063\n",
            "Step [200/469] | Time: 3.58s |  Loss: 0.3729\n",
            "Step [250/469] | Time: 4.50s |  Loss: 0.3352\n",
            "Step [300/469] | Time: 5.43s |  Loss: 0.4328\n",
            "Step [350/469] | Time: 6.33s |  Loss: 0.3457\n",
            "Step [400/469] | Time: 7.24s |  Loss: 0.5070\n",
            "Step [450/469] | Time: 8.60s |  Loss: 0.5533\n",
            "---------------------------------------------\n"
          ]
        }
      ],
      "source": [
        "train_model(\n",
        "    data=train_dataloader,\n",
        "    model=model_rnn_torch,\n",
        "    loss_fn=nn.CrossEntropyLoss(),\n",
        "    optimizer=opt,\n",
        "    scheduler=scheduler,\n",
        "    scheduler_step=len(train_dataloader),\n",
        "    epochs=5,\n",
        "    show_step=50\n",
        ")"
      ]
    },
    {
      "cell_type": "code",
      "source": [
        "train_scores, true_labels = scoring(train_dataloader, model_rnn_torch)\n",
        "test_scores, true_labels_test = scoring(test_dataloader, model_rnn_torch)"
      ],
      "metadata": {
        "colab": {
          "base_uri": "https://localhost:8080/"
        },
        "id": "Ok9YWT6nPBkV",
        "outputId": "aa131436-58f3-4204-98f9-784afdf9f44a"
      },
      "execution_count": 144,
      "outputs": [
        {
          "output_type": "stream",
          "name": "stderr",
          "text": [
            "Scoring data...: 100%|████████████████████████| 469/469 [00:08<00:00, 57.43it/s]\n",
            "Scoring data...: 100%|██████████████████████████| 79/79 [00:01<00:00, 59.21it/s]\n"
          ]
        }
      ]
    },
    {
      "cell_type": "code",
      "execution_count": 145,
      "metadata": {
        "colab": {
          "base_uri": "https://localhost:8080/"
        },
        "id": "6eaRfCHGFd8r",
        "outputId": "64a34d48-001d-4441-ea6a-10a1df564bb8"
      },
      "outputs": [
        {
          "output_type": "stream",
          "name": "stdout",
          "text": [
            "Compute accuracy... \n",
            "Accuracy on train: 0.8617 \n",
            "\n",
            "Compute accuracy... \n",
            "Accuracy on test: 0.8517\n"
          ]
        }
      ],
      "source": [
        "print('Accuracy on train: %.4f \\n' % accuracy(train_scores, true_labels))\n",
        "print('Accuracy on test: %.4f' % accuracy(test_scores, true_labels_test))"
      ]
    }
  ],
  "metadata": {
    "colab": {
      "collapsed_sections": [
        "0XJtr44K38_4"
      ],
      "provenance": [],
      "gpuType": "T4"
    },
    "kernelspec": {
      "display_name": "Python 3",
      "name": "python3"
    },
    "language_info": {
      "name": "python"
    },
    "accelerator": "GPU"
  },
  "nbformat": 4,
  "nbformat_minor": 0
}
